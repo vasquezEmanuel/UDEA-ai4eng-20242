{
  "cells": [
    {
      "cell_type": "markdown",
      "metadata": {
        "id": "view-in-github",
        "colab_type": "text"
      },
      "source": [
        "<a href=\"https://colab.research.google.com/github/vasquezEmanuel/UDEA-ai4eng-20242/blob/main/02%20-%20preprocesado.ipynb\" target=\"_parent\"><img src=\"https://colab.research.google.com/assets/colab-badge.svg\" alt=\"Open In Colab\"/></a>"
      ]
    },
    {
      "cell_type": "markdown",
      "metadata": {
        "id": "khjC6Wkk5OED"
      },
      "source": [
        "# CARGA DATASETS\n"
      ]
    },
    {
      "cell_type": "markdown",
      "metadata": {
        "id": "ZmUgqIzD47PG"
      },
      "source": [
        "Instalar librería para abrir datasets"
      ]
    },
    {
      "cell_type": "code",
      "execution_count": null,
      "metadata": {
        "id": "z_jgtojT37n0",
        "colab": {
          "base_uri": "https://localhost:8080/"
        },
        "outputId": "d8f33845-df7e-4555-8fdf-34b886b8e3c5"
      },
      "outputs": [
        {
          "output_type": "stream",
          "name": "stdout",
          "text": [
            "Collecting opendatasets\n",
            "  Downloading opendatasets-0.1.22-py3-none-any.whl.metadata (9.2 kB)\n",
            "Requirement already satisfied: tqdm in /usr/local/lib/python3.10/dist-packages (from opendatasets) (4.66.5)\n",
            "Requirement already satisfied: kaggle in /usr/local/lib/python3.10/dist-packages (from opendatasets) (1.6.17)\n",
            "Requirement already satisfied: click in /usr/local/lib/python3.10/dist-packages (from opendatasets) (8.1.7)\n",
            "Requirement already satisfied: six>=1.10 in /usr/local/lib/python3.10/dist-packages (from kaggle->opendatasets) (1.16.0)\n",
            "Requirement already satisfied: certifi>=2023.7.22 in /usr/local/lib/python3.10/dist-packages (from kaggle->opendatasets) (2024.8.30)\n",
            "Requirement already satisfied: python-dateutil in /usr/local/lib/python3.10/dist-packages (from kaggle->opendatasets) (2.8.2)\n",
            "Requirement already satisfied: requests in /usr/local/lib/python3.10/dist-packages (from kaggle->opendatasets) (2.32.3)\n",
            "Requirement already satisfied: python-slugify in /usr/local/lib/python3.10/dist-packages (from kaggle->opendatasets) (8.0.4)\n",
            "Requirement already satisfied: urllib3 in /usr/local/lib/python3.10/dist-packages (from kaggle->opendatasets) (2.2.3)\n",
            "Requirement already satisfied: bleach in /usr/local/lib/python3.10/dist-packages (from kaggle->opendatasets) (6.1.0)\n",
            "Requirement already satisfied: webencodings in /usr/local/lib/python3.10/dist-packages (from bleach->kaggle->opendatasets) (0.5.1)\n",
            "Requirement already satisfied: text-unidecode>=1.3 in /usr/local/lib/python3.10/dist-packages (from python-slugify->kaggle->opendatasets) (1.3)\n",
            "Requirement already satisfied: charset-normalizer<4,>=2 in /usr/local/lib/python3.10/dist-packages (from requests->kaggle->opendatasets) (3.3.2)\n",
            "Requirement already satisfied: idna<4,>=2.5 in /usr/local/lib/python3.10/dist-packages (from requests->kaggle->opendatasets) (3.10)\n",
            "Downloading opendatasets-0.1.22-py3-none-any.whl (15 kB)\n",
            "Installing collected packages: opendatasets\n",
            "Successfully installed opendatasets-0.1.22\n"
          ]
        }
      ],
      "source": [
        "!pip install opendatasets\n",
        "import opendatasets as od"
      ]
    },
    {
      "cell_type": "markdown",
      "metadata": {
        "id": "Vpy5BKzH48PP"
      },
      "source": [
        "Asignar a dataset_link el link de los datos que se desean importar"
      ]
    },
    {
      "cell_type": "code",
      "execution_count": null,
      "metadata": {
        "colab": {
          "base_uri": "https://localhost:8080/"
        },
        "id": "NFHAz68P4AxT",
        "outputId": "94b25be9-394b-42d2-bb56-7b19e95c1a89"
      },
      "outputs": [
        {
          "output_type": "stream",
          "name": "stdout",
          "text": [
            "Please provide your Kaggle credentials to download this dataset. Learn more: http://bit.ly/kaggle-creds\n",
            "Your Kaggle username: emanuelvasquezyepes\n",
            "Your Kaggle Key: ··········\n",
            "Downloading udea-ai4eng-20242.zip to ./udea-ai4eng-20242\n"
          ]
        },
        {
          "output_type": "stream",
          "name": "stderr",
          "text": [
            "100%|██████████| 20.1M/20.1M [00:00<00:00, 119MB/s] "
          ]
        },
        {
          "output_type": "stream",
          "name": "stdout",
          "text": [
            "\n",
            "Extracting archive ./udea-ai4eng-20242/udea-ai4eng-20242.zip to ./udea-ai4eng-20242\n"
          ]
        },
        {
          "output_type": "stream",
          "name": "stderr",
          "text": [
            "\n"
          ]
        }
      ],
      "source": [
        "dataset_link=\"https://www.kaggle.com/competitions/udea-ai4eng-20242\"\n",
        "od.download(dataset_link)"
      ]
    },
    {
      "cell_type": "markdown",
      "metadata": {
        "id": "3JfGxefR5Htz"
      },
      "source": [
        "Copiar ruta donde se cargaron los archivos"
      ]
    },
    {
      "cell_type": "code",
      "execution_count": null,
      "metadata": {
        "colab": {
          "base_uri": "https://localhost:8080/"
        },
        "id": "oh2xtRtW4Ggi",
        "outputId": "7905da84-ad70-45a0-d26b-d59e46824050"
      },
      "outputs": [
        {
          "output_type": "execute_result",
          "data": {
            "text/plain": [
              "['test.csv', 'submission_example.csv', 'train.csv']"
            ]
          },
          "metadata": {},
          "execution_count": 3
        }
      ],
      "source": [
        "import os\n",
        "os.chdir(\"udea-ai4eng-20242\")\n",
        "os.listdir()"
      ]
    },
    {
      "cell_type": "code",
      "execution_count": null,
      "metadata": {
        "id": "OVFbha7F4JQ7"
      },
      "outputs": [],
      "source": [
        "import pandas as pd\n",
        "train = pd.read_csv(\"train.csv\")\n",
        "test = pd.read_csv(\"test.csv\")\n"
      ]
    },
    {
      "cell_type": "code",
      "execution_count": null,
      "metadata": {
        "id": "jGd14LNe-F87",
        "colab": {
          "base_uri": "https://localhost:8080/"
        },
        "outputId": "310e5073-64b5-48b4-f548-549d1680c827"
      },
      "outputs": [
        {
          "output_type": "stream",
          "name": "stdout",
          "text": [
            "(296786, 12) (692500, 12)\n"
          ]
        }
      ],
      "source": [
        "print(test.shape, train.shape)"
      ]
    },
    {
      "cell_type": "code",
      "execution_count": null,
      "metadata": {
        "colab": {
          "base_uri": "https://localhost:8080/",
          "height": 365
        },
        "id": "sM6OheOX-Nin",
        "outputId": "d470becb-4523-46dd-c6ca-62e4c0405388"
      },
      "outputs": [
        {
          "output_type": "execute_result",
          "data": {
            "text/plain": [
              "   Unnamed: 0      ID  PERIODO                     ESTU_PRGM_ACADEMICO  \\\n",
              "0           0  550236    20183                          TRABAJO SOCIAL   \n",
              "1           1   98545    20203  ADMINISTRACION COMERCIAL Y DE MERCADEO   \n",
              "2           2  499179    20212                  INGENIERIA MECATRONICA   \n",
              "3           3  782980    20195                      CONTADURIA PUBLICA   \n",
              "4           4  785185    20212              ADMINISTRACION DE EMPRESAS   \n",
              "\n",
              "  ESTU_PRGM_DEPARTAMENTO            ESTU_VALORMATRICULAUNIVERSIDAD  \\\n",
              "0                BOLIVAR                          Menos de 500 mil   \n",
              "1              ANTIOQUIA  Entre 2.5 millones y menos de 4 millones   \n",
              "2                 BOGOTÁ    Entre 1 millón y menos de 2.5 millones   \n",
              "3                  SUCRE    Entre 1 millón y menos de 2.5 millones   \n",
              "4              ATLANTICO  Entre 2.5 millones y menos de 4 millones   \n",
              "\n",
              "  ESTU_HORASSEMANATRABAJA FAMI_ESTRATOVIVIENDA FAMI_TIENEINTERNET  \\\n",
              "0       Menos de 10 horas            Estrato 3                 Si   \n",
              "1     Entre 21 y 30 horas            Estrato 2                 Si   \n",
              "2                       0            Estrato 3                 Si   \n",
              "3     Entre 21 y 30 horas            Estrato 1                 No   \n",
              "4     Entre 11 y 20 horas            Estrato 2                 Si   \n",
              "\n",
              "                    FAMI_EDUCACIONPADRE                 FAMI_EDUCACIONMADRE  \\\n",
              "0        Técnica o tecnológica completa                   Primaria completa   \n",
              "1    Secundaria (Bachillerato) completa      Técnica o tecnológica completa   \n",
              "2  Secundaria (Bachillerato) incompleta  Secundaria (Bachillerato) completa   \n",
              "3                   Primaria incompleta                 Primaria incompleta   \n",
              "4    Secundaria (Bachillerato) completa  Secundaria (Bachillerato) completa   \n",
              "\n",
              "  ESTU_PAGOMATRICULAPROPIO  \n",
              "0                       Si  \n",
              "1                       No  \n",
              "2                       No  \n",
              "3                       No  \n",
              "4                       No  "
            ],
            "text/html": [
              "\n",
              "  <div id=\"df-7cbdbca2-2dbb-456e-a86e-066ba4521738\" class=\"colab-df-container\">\n",
              "    <div>\n",
              "<style scoped>\n",
              "    .dataframe tbody tr th:only-of-type {\n",
              "        vertical-align: middle;\n",
              "    }\n",
              "\n",
              "    .dataframe tbody tr th {\n",
              "        vertical-align: top;\n",
              "    }\n",
              "\n",
              "    .dataframe thead th {\n",
              "        text-align: right;\n",
              "    }\n",
              "</style>\n",
              "<table border=\"1\" class=\"dataframe\">\n",
              "  <thead>\n",
              "    <tr style=\"text-align: right;\">\n",
              "      <th></th>\n",
              "      <th>Unnamed: 0</th>\n",
              "      <th>ID</th>\n",
              "      <th>PERIODO</th>\n",
              "      <th>ESTU_PRGM_ACADEMICO</th>\n",
              "      <th>ESTU_PRGM_DEPARTAMENTO</th>\n",
              "      <th>ESTU_VALORMATRICULAUNIVERSIDAD</th>\n",
              "      <th>ESTU_HORASSEMANATRABAJA</th>\n",
              "      <th>FAMI_ESTRATOVIVIENDA</th>\n",
              "      <th>FAMI_TIENEINTERNET</th>\n",
              "      <th>FAMI_EDUCACIONPADRE</th>\n",
              "      <th>FAMI_EDUCACIONMADRE</th>\n",
              "      <th>ESTU_PAGOMATRICULAPROPIO</th>\n",
              "    </tr>\n",
              "  </thead>\n",
              "  <tbody>\n",
              "    <tr>\n",
              "      <th>0</th>\n",
              "      <td>0</td>\n",
              "      <td>550236</td>\n",
              "      <td>20183</td>\n",
              "      <td>TRABAJO SOCIAL</td>\n",
              "      <td>BOLIVAR</td>\n",
              "      <td>Menos de 500 mil</td>\n",
              "      <td>Menos de 10 horas</td>\n",
              "      <td>Estrato 3</td>\n",
              "      <td>Si</td>\n",
              "      <td>Técnica o tecnológica completa</td>\n",
              "      <td>Primaria completa</td>\n",
              "      <td>Si</td>\n",
              "    </tr>\n",
              "    <tr>\n",
              "      <th>1</th>\n",
              "      <td>1</td>\n",
              "      <td>98545</td>\n",
              "      <td>20203</td>\n",
              "      <td>ADMINISTRACION COMERCIAL Y DE MERCADEO</td>\n",
              "      <td>ANTIOQUIA</td>\n",
              "      <td>Entre 2.5 millones y menos de 4 millones</td>\n",
              "      <td>Entre 21 y 30 horas</td>\n",
              "      <td>Estrato 2</td>\n",
              "      <td>Si</td>\n",
              "      <td>Secundaria (Bachillerato) completa</td>\n",
              "      <td>Técnica o tecnológica completa</td>\n",
              "      <td>No</td>\n",
              "    </tr>\n",
              "    <tr>\n",
              "      <th>2</th>\n",
              "      <td>2</td>\n",
              "      <td>499179</td>\n",
              "      <td>20212</td>\n",
              "      <td>INGENIERIA MECATRONICA</td>\n",
              "      <td>BOGOTÁ</td>\n",
              "      <td>Entre 1 millón y menos de 2.5 millones</td>\n",
              "      <td>0</td>\n",
              "      <td>Estrato 3</td>\n",
              "      <td>Si</td>\n",
              "      <td>Secundaria (Bachillerato) incompleta</td>\n",
              "      <td>Secundaria (Bachillerato) completa</td>\n",
              "      <td>No</td>\n",
              "    </tr>\n",
              "    <tr>\n",
              "      <th>3</th>\n",
              "      <td>3</td>\n",
              "      <td>782980</td>\n",
              "      <td>20195</td>\n",
              "      <td>CONTADURIA PUBLICA</td>\n",
              "      <td>SUCRE</td>\n",
              "      <td>Entre 1 millón y menos de 2.5 millones</td>\n",
              "      <td>Entre 21 y 30 horas</td>\n",
              "      <td>Estrato 1</td>\n",
              "      <td>No</td>\n",
              "      <td>Primaria incompleta</td>\n",
              "      <td>Primaria incompleta</td>\n",
              "      <td>No</td>\n",
              "    </tr>\n",
              "    <tr>\n",
              "      <th>4</th>\n",
              "      <td>4</td>\n",
              "      <td>785185</td>\n",
              "      <td>20212</td>\n",
              "      <td>ADMINISTRACION DE EMPRESAS</td>\n",
              "      <td>ATLANTICO</td>\n",
              "      <td>Entre 2.5 millones y menos de 4 millones</td>\n",
              "      <td>Entre 11 y 20 horas</td>\n",
              "      <td>Estrato 2</td>\n",
              "      <td>Si</td>\n",
              "      <td>Secundaria (Bachillerato) completa</td>\n",
              "      <td>Secundaria (Bachillerato) completa</td>\n",
              "      <td>No</td>\n",
              "    </tr>\n",
              "  </tbody>\n",
              "</table>\n",
              "</div>\n",
              "    <div class=\"colab-df-buttons\">\n",
              "\n",
              "  <div class=\"colab-df-container\">\n",
              "    <button class=\"colab-df-convert\" onclick=\"convertToInteractive('df-7cbdbca2-2dbb-456e-a86e-066ba4521738')\"\n",
              "            title=\"Convert this dataframe to an interactive table.\"\n",
              "            style=\"display:none;\">\n",
              "\n",
              "  <svg xmlns=\"http://www.w3.org/2000/svg\" height=\"24px\" viewBox=\"0 -960 960 960\">\n",
              "    <path d=\"M120-120v-720h720v720H120Zm60-500h600v-160H180v160Zm220 220h160v-160H400v160Zm0 220h160v-160H400v160ZM180-400h160v-160H180v160Zm440 0h160v-160H620v160ZM180-180h160v-160H180v160Zm440 0h160v-160H620v160Z\"/>\n",
              "  </svg>\n",
              "    </button>\n",
              "\n",
              "  <style>\n",
              "    .colab-df-container {\n",
              "      display:flex;\n",
              "      gap: 12px;\n",
              "    }\n",
              "\n",
              "    .colab-df-convert {\n",
              "      background-color: #E8F0FE;\n",
              "      border: none;\n",
              "      border-radius: 50%;\n",
              "      cursor: pointer;\n",
              "      display: none;\n",
              "      fill: #1967D2;\n",
              "      height: 32px;\n",
              "      padding: 0 0 0 0;\n",
              "      width: 32px;\n",
              "    }\n",
              "\n",
              "    .colab-df-convert:hover {\n",
              "      background-color: #E2EBFA;\n",
              "      box-shadow: 0px 1px 2px rgba(60, 64, 67, 0.3), 0px 1px 3px 1px rgba(60, 64, 67, 0.15);\n",
              "      fill: #174EA6;\n",
              "    }\n",
              "\n",
              "    .colab-df-buttons div {\n",
              "      margin-bottom: 4px;\n",
              "    }\n",
              "\n",
              "    [theme=dark] .colab-df-convert {\n",
              "      background-color: #3B4455;\n",
              "      fill: #D2E3FC;\n",
              "    }\n",
              "\n",
              "    [theme=dark] .colab-df-convert:hover {\n",
              "      background-color: #434B5C;\n",
              "      box-shadow: 0px 1px 3px 1px rgba(0, 0, 0, 0.15);\n",
              "      filter: drop-shadow(0px 1px 2px rgba(0, 0, 0, 0.3));\n",
              "      fill: #FFFFFF;\n",
              "    }\n",
              "  </style>\n",
              "\n",
              "    <script>\n",
              "      const buttonEl =\n",
              "        document.querySelector('#df-7cbdbca2-2dbb-456e-a86e-066ba4521738 button.colab-df-convert');\n",
              "      buttonEl.style.display =\n",
              "        google.colab.kernel.accessAllowed ? 'block' : 'none';\n",
              "\n",
              "      async function convertToInteractive(key) {\n",
              "        const element = document.querySelector('#df-7cbdbca2-2dbb-456e-a86e-066ba4521738');\n",
              "        const dataTable =\n",
              "          await google.colab.kernel.invokeFunction('convertToInteractive',\n",
              "                                                    [key], {});\n",
              "        if (!dataTable) return;\n",
              "\n",
              "        const docLinkHtml = 'Like what you see? Visit the ' +\n",
              "          '<a target=\"_blank\" href=https://colab.research.google.com/notebooks/data_table.ipynb>data table notebook</a>'\n",
              "          + ' to learn more about interactive tables.';\n",
              "        element.innerHTML = '';\n",
              "        dataTable['output_type'] = 'display_data';\n",
              "        await google.colab.output.renderOutput(dataTable, element);\n",
              "        const docLink = document.createElement('div');\n",
              "        docLink.innerHTML = docLinkHtml;\n",
              "        element.appendChild(docLink);\n",
              "      }\n",
              "    </script>\n",
              "  </div>\n",
              "\n",
              "\n",
              "<div id=\"df-3367adcd-f330-4904-970f-16d8e6c7c690\">\n",
              "  <button class=\"colab-df-quickchart\" onclick=\"quickchart('df-3367adcd-f330-4904-970f-16d8e6c7c690')\"\n",
              "            title=\"Suggest charts\"\n",
              "            style=\"display:none;\">\n",
              "\n",
              "<svg xmlns=\"http://www.w3.org/2000/svg\" height=\"24px\"viewBox=\"0 0 24 24\"\n",
              "     width=\"24px\">\n",
              "    <g>\n",
              "        <path d=\"M19 3H5c-1.1 0-2 .9-2 2v14c0 1.1.9 2 2 2h14c1.1 0 2-.9 2-2V5c0-1.1-.9-2-2-2zM9 17H7v-7h2v7zm4 0h-2V7h2v10zm4 0h-2v-4h2v4z\"/>\n",
              "    </g>\n",
              "</svg>\n",
              "  </button>\n",
              "\n",
              "<style>\n",
              "  .colab-df-quickchart {\n",
              "      --bg-color: #E8F0FE;\n",
              "      --fill-color: #1967D2;\n",
              "      --hover-bg-color: #E2EBFA;\n",
              "      --hover-fill-color: #174EA6;\n",
              "      --disabled-fill-color: #AAA;\n",
              "      --disabled-bg-color: #DDD;\n",
              "  }\n",
              "\n",
              "  [theme=dark] .colab-df-quickchart {\n",
              "      --bg-color: #3B4455;\n",
              "      --fill-color: #D2E3FC;\n",
              "      --hover-bg-color: #434B5C;\n",
              "      --hover-fill-color: #FFFFFF;\n",
              "      --disabled-bg-color: #3B4455;\n",
              "      --disabled-fill-color: #666;\n",
              "  }\n",
              "\n",
              "  .colab-df-quickchart {\n",
              "    background-color: var(--bg-color);\n",
              "    border: none;\n",
              "    border-radius: 50%;\n",
              "    cursor: pointer;\n",
              "    display: none;\n",
              "    fill: var(--fill-color);\n",
              "    height: 32px;\n",
              "    padding: 0;\n",
              "    width: 32px;\n",
              "  }\n",
              "\n",
              "  .colab-df-quickchart:hover {\n",
              "    background-color: var(--hover-bg-color);\n",
              "    box-shadow: 0 1px 2px rgba(60, 64, 67, 0.3), 0 1px 3px 1px rgba(60, 64, 67, 0.15);\n",
              "    fill: var(--button-hover-fill-color);\n",
              "  }\n",
              "\n",
              "  .colab-df-quickchart-complete:disabled,\n",
              "  .colab-df-quickchart-complete:disabled:hover {\n",
              "    background-color: var(--disabled-bg-color);\n",
              "    fill: var(--disabled-fill-color);\n",
              "    box-shadow: none;\n",
              "  }\n",
              "\n",
              "  .colab-df-spinner {\n",
              "    border: 2px solid var(--fill-color);\n",
              "    border-color: transparent;\n",
              "    border-bottom-color: var(--fill-color);\n",
              "    animation:\n",
              "      spin 1s steps(1) infinite;\n",
              "  }\n",
              "\n",
              "  @keyframes spin {\n",
              "    0% {\n",
              "      border-color: transparent;\n",
              "      border-bottom-color: var(--fill-color);\n",
              "      border-left-color: var(--fill-color);\n",
              "    }\n",
              "    20% {\n",
              "      border-color: transparent;\n",
              "      border-left-color: var(--fill-color);\n",
              "      border-top-color: var(--fill-color);\n",
              "    }\n",
              "    30% {\n",
              "      border-color: transparent;\n",
              "      border-left-color: var(--fill-color);\n",
              "      border-top-color: var(--fill-color);\n",
              "      border-right-color: var(--fill-color);\n",
              "    }\n",
              "    40% {\n",
              "      border-color: transparent;\n",
              "      border-right-color: var(--fill-color);\n",
              "      border-top-color: var(--fill-color);\n",
              "    }\n",
              "    60% {\n",
              "      border-color: transparent;\n",
              "      border-right-color: var(--fill-color);\n",
              "    }\n",
              "    80% {\n",
              "      border-color: transparent;\n",
              "      border-right-color: var(--fill-color);\n",
              "      border-bottom-color: var(--fill-color);\n",
              "    }\n",
              "    90% {\n",
              "      border-color: transparent;\n",
              "      border-bottom-color: var(--fill-color);\n",
              "    }\n",
              "  }\n",
              "</style>\n",
              "\n",
              "  <script>\n",
              "    async function quickchart(key) {\n",
              "      const quickchartButtonEl =\n",
              "        document.querySelector('#' + key + ' button');\n",
              "      quickchartButtonEl.disabled = true;  // To prevent multiple clicks.\n",
              "      quickchartButtonEl.classList.add('colab-df-spinner');\n",
              "      try {\n",
              "        const charts = await google.colab.kernel.invokeFunction(\n",
              "            'suggestCharts', [key], {});\n",
              "      } catch (error) {\n",
              "        console.error('Error during call to suggestCharts:', error);\n",
              "      }\n",
              "      quickchartButtonEl.classList.remove('colab-df-spinner');\n",
              "      quickchartButtonEl.classList.add('colab-df-quickchart-complete');\n",
              "    }\n",
              "    (() => {\n",
              "      let quickchartButtonEl =\n",
              "        document.querySelector('#df-3367adcd-f330-4904-970f-16d8e6c7c690 button');\n",
              "      quickchartButtonEl.style.display =\n",
              "        google.colab.kernel.accessAllowed ? 'block' : 'none';\n",
              "    })();\n",
              "  </script>\n",
              "</div>\n",
              "\n",
              "    </div>\n",
              "  </div>\n"
            ],
            "application/vnd.google.colaboratory.intrinsic+json": {
              "type": "dataframe",
              "variable_name": "test"
            }
          },
          "metadata": {},
          "execution_count": 6
        }
      ],
      "source": [
        "test.head()"
      ]
    },
    {
      "cell_type": "code",
      "execution_count": null,
      "metadata": {
        "colab": {
          "base_uri": "https://localhost:8080/",
          "height": 313
        },
        "id": "5rmcSg43eeJr",
        "outputId": "a893da29-32dd-4a7e-9e82-afb47055f346"
      },
      "outputs": [
        {
          "output_type": "execute_result",
          "data": {
            "text/plain": [
              "       ID  PERIODO         ESTU_PRGM_ACADEMICO ESTU_PRGM_DEPARTAMENTO  \\\n",
              "0  904256    20212                  ENFERMERIA                 BOGOTÁ   \n",
              "1  645256    20212                     DERECHO              ATLANTICO   \n",
              "2  308367    20203       MERCADEO Y PUBLICIDAD                 BOGOTÁ   \n",
              "3  470353    20195  ADMINISTRACION DE EMPRESAS              SANTANDER   \n",
              "4  989032    20212                  PSICOLOGIA              ANTIOQUIA   \n",
              "\n",
              "             ESTU_VALORMATRICULAUNIVERSIDAD ESTU_HORASSEMANATRABAJA  \\\n",
              "0  Entre 5.5 millones y menos de 7 millones       Menos de 10 horas   \n",
              "1  Entre 2.5 millones y menos de 4 millones                       0   \n",
              "2  Entre 2.5 millones y menos de 4 millones         Más de 30 horas   \n",
              "3  Entre 4 millones y menos de 5.5 millones                       0   \n",
              "4  Entre 2.5 millones y menos de 4 millones     Entre 21 y 30 horas   \n",
              "\n",
              "  FAMI_ESTRATOVIVIENDA FAMI_TIENEINTERNET                 FAMI_EDUCACIONPADRE  \\\n",
              "0            Estrato 3                 Si    Técnica o tecnológica incompleta   \n",
              "1            Estrato 3                 No      Técnica o tecnológica completa   \n",
              "2            Estrato 3                 Si  Secundaria (Bachillerato) completa   \n",
              "3            Estrato 4                 Si                             No sabe   \n",
              "4            Estrato 3                 Si                   Primaria completa   \n",
              "\n",
              "                  FAMI_EDUCACIONMADRE ESTU_PAGOMATRICULAPROPIO  \\\n",
              "0                           Postgrado                       No   \n",
              "1    Técnica o tecnológica incompleta                       No   \n",
              "2  Secundaria (Bachillerato) completa                       No   \n",
              "3  Secundaria (Bachillerato) completa                       No   \n",
              "4                   Primaria completa                       No   \n",
              "\n",
              "  RENDIMIENTO_GLOBAL  \n",
              "0         medio-alto  \n",
              "1               bajo  \n",
              "2               bajo  \n",
              "3               alto  \n",
              "4         medio-bajo  "
            ],
            "text/html": [
              "\n",
              "  <div id=\"df-5f76199f-e8d2-43bc-ba6e-0d2a02f69db9\" class=\"colab-df-container\">\n",
              "    <div>\n",
              "<style scoped>\n",
              "    .dataframe tbody tr th:only-of-type {\n",
              "        vertical-align: middle;\n",
              "    }\n",
              "\n",
              "    .dataframe tbody tr th {\n",
              "        vertical-align: top;\n",
              "    }\n",
              "\n",
              "    .dataframe thead th {\n",
              "        text-align: right;\n",
              "    }\n",
              "</style>\n",
              "<table border=\"1\" class=\"dataframe\">\n",
              "  <thead>\n",
              "    <tr style=\"text-align: right;\">\n",
              "      <th></th>\n",
              "      <th>ID</th>\n",
              "      <th>PERIODO</th>\n",
              "      <th>ESTU_PRGM_ACADEMICO</th>\n",
              "      <th>ESTU_PRGM_DEPARTAMENTO</th>\n",
              "      <th>ESTU_VALORMATRICULAUNIVERSIDAD</th>\n",
              "      <th>ESTU_HORASSEMANATRABAJA</th>\n",
              "      <th>FAMI_ESTRATOVIVIENDA</th>\n",
              "      <th>FAMI_TIENEINTERNET</th>\n",
              "      <th>FAMI_EDUCACIONPADRE</th>\n",
              "      <th>FAMI_EDUCACIONMADRE</th>\n",
              "      <th>ESTU_PAGOMATRICULAPROPIO</th>\n",
              "      <th>RENDIMIENTO_GLOBAL</th>\n",
              "    </tr>\n",
              "  </thead>\n",
              "  <tbody>\n",
              "    <tr>\n",
              "      <th>0</th>\n",
              "      <td>904256</td>\n",
              "      <td>20212</td>\n",
              "      <td>ENFERMERIA</td>\n",
              "      <td>BOGOTÁ</td>\n",
              "      <td>Entre 5.5 millones y menos de 7 millones</td>\n",
              "      <td>Menos de 10 horas</td>\n",
              "      <td>Estrato 3</td>\n",
              "      <td>Si</td>\n",
              "      <td>Técnica o tecnológica incompleta</td>\n",
              "      <td>Postgrado</td>\n",
              "      <td>No</td>\n",
              "      <td>medio-alto</td>\n",
              "    </tr>\n",
              "    <tr>\n",
              "      <th>1</th>\n",
              "      <td>645256</td>\n",
              "      <td>20212</td>\n",
              "      <td>DERECHO</td>\n",
              "      <td>ATLANTICO</td>\n",
              "      <td>Entre 2.5 millones y menos de 4 millones</td>\n",
              "      <td>0</td>\n",
              "      <td>Estrato 3</td>\n",
              "      <td>No</td>\n",
              "      <td>Técnica o tecnológica completa</td>\n",
              "      <td>Técnica o tecnológica incompleta</td>\n",
              "      <td>No</td>\n",
              "      <td>bajo</td>\n",
              "    </tr>\n",
              "    <tr>\n",
              "      <th>2</th>\n",
              "      <td>308367</td>\n",
              "      <td>20203</td>\n",
              "      <td>MERCADEO Y PUBLICIDAD</td>\n",
              "      <td>BOGOTÁ</td>\n",
              "      <td>Entre 2.5 millones y menos de 4 millones</td>\n",
              "      <td>Más de 30 horas</td>\n",
              "      <td>Estrato 3</td>\n",
              "      <td>Si</td>\n",
              "      <td>Secundaria (Bachillerato) completa</td>\n",
              "      <td>Secundaria (Bachillerato) completa</td>\n",
              "      <td>No</td>\n",
              "      <td>bajo</td>\n",
              "    </tr>\n",
              "    <tr>\n",
              "      <th>3</th>\n",
              "      <td>470353</td>\n",
              "      <td>20195</td>\n",
              "      <td>ADMINISTRACION DE EMPRESAS</td>\n",
              "      <td>SANTANDER</td>\n",
              "      <td>Entre 4 millones y menos de 5.5 millones</td>\n",
              "      <td>0</td>\n",
              "      <td>Estrato 4</td>\n",
              "      <td>Si</td>\n",
              "      <td>No sabe</td>\n",
              "      <td>Secundaria (Bachillerato) completa</td>\n",
              "      <td>No</td>\n",
              "      <td>alto</td>\n",
              "    </tr>\n",
              "    <tr>\n",
              "      <th>4</th>\n",
              "      <td>989032</td>\n",
              "      <td>20212</td>\n",
              "      <td>PSICOLOGIA</td>\n",
              "      <td>ANTIOQUIA</td>\n",
              "      <td>Entre 2.5 millones y menos de 4 millones</td>\n",
              "      <td>Entre 21 y 30 horas</td>\n",
              "      <td>Estrato 3</td>\n",
              "      <td>Si</td>\n",
              "      <td>Primaria completa</td>\n",
              "      <td>Primaria completa</td>\n",
              "      <td>No</td>\n",
              "      <td>medio-bajo</td>\n",
              "    </tr>\n",
              "  </tbody>\n",
              "</table>\n",
              "</div>\n",
              "    <div class=\"colab-df-buttons\">\n",
              "\n",
              "  <div class=\"colab-df-container\">\n",
              "    <button class=\"colab-df-convert\" onclick=\"convertToInteractive('df-5f76199f-e8d2-43bc-ba6e-0d2a02f69db9')\"\n",
              "            title=\"Convert this dataframe to an interactive table.\"\n",
              "            style=\"display:none;\">\n",
              "\n",
              "  <svg xmlns=\"http://www.w3.org/2000/svg\" height=\"24px\" viewBox=\"0 -960 960 960\">\n",
              "    <path d=\"M120-120v-720h720v720H120Zm60-500h600v-160H180v160Zm220 220h160v-160H400v160Zm0 220h160v-160H400v160ZM180-400h160v-160H180v160Zm440 0h160v-160H620v160ZM180-180h160v-160H180v160Zm440 0h160v-160H620v160Z\"/>\n",
              "  </svg>\n",
              "    </button>\n",
              "\n",
              "  <style>\n",
              "    .colab-df-container {\n",
              "      display:flex;\n",
              "      gap: 12px;\n",
              "    }\n",
              "\n",
              "    .colab-df-convert {\n",
              "      background-color: #E8F0FE;\n",
              "      border: none;\n",
              "      border-radius: 50%;\n",
              "      cursor: pointer;\n",
              "      display: none;\n",
              "      fill: #1967D2;\n",
              "      height: 32px;\n",
              "      padding: 0 0 0 0;\n",
              "      width: 32px;\n",
              "    }\n",
              "\n",
              "    .colab-df-convert:hover {\n",
              "      background-color: #E2EBFA;\n",
              "      box-shadow: 0px 1px 2px rgba(60, 64, 67, 0.3), 0px 1px 3px 1px rgba(60, 64, 67, 0.15);\n",
              "      fill: #174EA6;\n",
              "    }\n",
              "\n",
              "    .colab-df-buttons div {\n",
              "      margin-bottom: 4px;\n",
              "    }\n",
              "\n",
              "    [theme=dark] .colab-df-convert {\n",
              "      background-color: #3B4455;\n",
              "      fill: #D2E3FC;\n",
              "    }\n",
              "\n",
              "    [theme=dark] .colab-df-convert:hover {\n",
              "      background-color: #434B5C;\n",
              "      box-shadow: 0px 1px 3px 1px rgba(0, 0, 0, 0.15);\n",
              "      filter: drop-shadow(0px 1px 2px rgba(0, 0, 0, 0.3));\n",
              "      fill: #FFFFFF;\n",
              "    }\n",
              "  </style>\n",
              "\n",
              "    <script>\n",
              "      const buttonEl =\n",
              "        document.querySelector('#df-5f76199f-e8d2-43bc-ba6e-0d2a02f69db9 button.colab-df-convert');\n",
              "      buttonEl.style.display =\n",
              "        google.colab.kernel.accessAllowed ? 'block' : 'none';\n",
              "\n",
              "      async function convertToInteractive(key) {\n",
              "        const element = document.querySelector('#df-5f76199f-e8d2-43bc-ba6e-0d2a02f69db9');\n",
              "        const dataTable =\n",
              "          await google.colab.kernel.invokeFunction('convertToInteractive',\n",
              "                                                    [key], {});\n",
              "        if (!dataTable) return;\n",
              "\n",
              "        const docLinkHtml = 'Like what you see? Visit the ' +\n",
              "          '<a target=\"_blank\" href=https://colab.research.google.com/notebooks/data_table.ipynb>data table notebook</a>'\n",
              "          + ' to learn more about interactive tables.';\n",
              "        element.innerHTML = '';\n",
              "        dataTable['output_type'] = 'display_data';\n",
              "        await google.colab.output.renderOutput(dataTable, element);\n",
              "        const docLink = document.createElement('div');\n",
              "        docLink.innerHTML = docLinkHtml;\n",
              "        element.appendChild(docLink);\n",
              "      }\n",
              "    </script>\n",
              "  </div>\n",
              "\n",
              "\n",
              "<div id=\"df-0680b82a-3707-415d-8021-81f87ac44da3\">\n",
              "  <button class=\"colab-df-quickchart\" onclick=\"quickchart('df-0680b82a-3707-415d-8021-81f87ac44da3')\"\n",
              "            title=\"Suggest charts\"\n",
              "            style=\"display:none;\">\n",
              "\n",
              "<svg xmlns=\"http://www.w3.org/2000/svg\" height=\"24px\"viewBox=\"0 0 24 24\"\n",
              "     width=\"24px\">\n",
              "    <g>\n",
              "        <path d=\"M19 3H5c-1.1 0-2 .9-2 2v14c0 1.1.9 2 2 2h14c1.1 0 2-.9 2-2V5c0-1.1-.9-2-2-2zM9 17H7v-7h2v7zm4 0h-2V7h2v10zm4 0h-2v-4h2v4z\"/>\n",
              "    </g>\n",
              "</svg>\n",
              "  </button>\n",
              "\n",
              "<style>\n",
              "  .colab-df-quickchart {\n",
              "      --bg-color: #E8F0FE;\n",
              "      --fill-color: #1967D2;\n",
              "      --hover-bg-color: #E2EBFA;\n",
              "      --hover-fill-color: #174EA6;\n",
              "      --disabled-fill-color: #AAA;\n",
              "      --disabled-bg-color: #DDD;\n",
              "  }\n",
              "\n",
              "  [theme=dark] .colab-df-quickchart {\n",
              "      --bg-color: #3B4455;\n",
              "      --fill-color: #D2E3FC;\n",
              "      --hover-bg-color: #434B5C;\n",
              "      --hover-fill-color: #FFFFFF;\n",
              "      --disabled-bg-color: #3B4455;\n",
              "      --disabled-fill-color: #666;\n",
              "  }\n",
              "\n",
              "  .colab-df-quickchart {\n",
              "    background-color: var(--bg-color);\n",
              "    border: none;\n",
              "    border-radius: 50%;\n",
              "    cursor: pointer;\n",
              "    display: none;\n",
              "    fill: var(--fill-color);\n",
              "    height: 32px;\n",
              "    padding: 0;\n",
              "    width: 32px;\n",
              "  }\n",
              "\n",
              "  .colab-df-quickchart:hover {\n",
              "    background-color: var(--hover-bg-color);\n",
              "    box-shadow: 0 1px 2px rgba(60, 64, 67, 0.3), 0 1px 3px 1px rgba(60, 64, 67, 0.15);\n",
              "    fill: var(--button-hover-fill-color);\n",
              "  }\n",
              "\n",
              "  .colab-df-quickchart-complete:disabled,\n",
              "  .colab-df-quickchart-complete:disabled:hover {\n",
              "    background-color: var(--disabled-bg-color);\n",
              "    fill: var(--disabled-fill-color);\n",
              "    box-shadow: none;\n",
              "  }\n",
              "\n",
              "  .colab-df-spinner {\n",
              "    border: 2px solid var(--fill-color);\n",
              "    border-color: transparent;\n",
              "    border-bottom-color: var(--fill-color);\n",
              "    animation:\n",
              "      spin 1s steps(1) infinite;\n",
              "  }\n",
              "\n",
              "  @keyframes spin {\n",
              "    0% {\n",
              "      border-color: transparent;\n",
              "      border-bottom-color: var(--fill-color);\n",
              "      border-left-color: var(--fill-color);\n",
              "    }\n",
              "    20% {\n",
              "      border-color: transparent;\n",
              "      border-left-color: var(--fill-color);\n",
              "      border-top-color: var(--fill-color);\n",
              "    }\n",
              "    30% {\n",
              "      border-color: transparent;\n",
              "      border-left-color: var(--fill-color);\n",
              "      border-top-color: var(--fill-color);\n",
              "      border-right-color: var(--fill-color);\n",
              "    }\n",
              "    40% {\n",
              "      border-color: transparent;\n",
              "      border-right-color: var(--fill-color);\n",
              "      border-top-color: var(--fill-color);\n",
              "    }\n",
              "    60% {\n",
              "      border-color: transparent;\n",
              "      border-right-color: var(--fill-color);\n",
              "    }\n",
              "    80% {\n",
              "      border-color: transparent;\n",
              "      border-right-color: var(--fill-color);\n",
              "      border-bottom-color: var(--fill-color);\n",
              "    }\n",
              "    90% {\n",
              "      border-color: transparent;\n",
              "      border-bottom-color: var(--fill-color);\n",
              "    }\n",
              "  }\n",
              "</style>\n",
              "\n",
              "  <script>\n",
              "    async function quickchart(key) {\n",
              "      const quickchartButtonEl =\n",
              "        document.querySelector('#' + key + ' button');\n",
              "      quickchartButtonEl.disabled = true;  // To prevent multiple clicks.\n",
              "      quickchartButtonEl.classList.add('colab-df-spinner');\n",
              "      try {\n",
              "        const charts = await google.colab.kernel.invokeFunction(\n",
              "            'suggestCharts', [key], {});\n",
              "      } catch (error) {\n",
              "        console.error('Error during call to suggestCharts:', error);\n",
              "      }\n",
              "      quickchartButtonEl.classList.remove('colab-df-spinner');\n",
              "      quickchartButtonEl.classList.add('colab-df-quickchart-complete');\n",
              "    }\n",
              "    (() => {\n",
              "      let quickchartButtonEl =\n",
              "        document.querySelector('#df-0680b82a-3707-415d-8021-81f87ac44da3 button');\n",
              "      quickchartButtonEl.style.display =\n",
              "        google.colab.kernel.accessAllowed ? 'block' : 'none';\n",
              "    })();\n",
              "  </script>\n",
              "</div>\n",
              "\n",
              "    </div>\n",
              "  </div>\n"
            ],
            "application/vnd.google.colaboratory.intrinsic+json": {
              "type": "dataframe",
              "variable_name": "train"
            }
          },
          "metadata": {},
          "execution_count": 7
        }
      ],
      "source": [
        "train.head()"
      ]
    },
    {
      "cell_type": "markdown",
      "metadata": {
        "id": "056lqOByDH8P"
      },
      "source": [
        "# EXPLORACIÓN"
      ]
    },
    {
      "cell_type": "markdown",
      "metadata": {
        "id": "xwLcCtyiEqEs"
      },
      "source": [
        "Distribución de valores de la matrícula universitaria"
      ]
    },
    {
      "cell_type": "code",
      "execution_count": null,
      "metadata": {
        "colab": {
          "base_uri": "https://localhost:8080/",
          "height": 564
        },
        "id": "ZDIqdsquDPo7",
        "outputId": "17dfc093-4bfe-4aa9-a7cc-c1af11f80459"
      },
      "outputs": [
        {
          "data": {
            "image/png": "[encoded data removed]",
            "text/plain": [
              "<Figure size 1000x600 with 1 Axes>"
            ]
          },
          "metadata": {},
          "output_type": "display_data"
        }
      ],
      "source": [
        "import seaborn as sns\n",
        "import matplotlib.pyplot as plt\n",
        "\n",
        "\n",
        "plt.figure(figsize=(10, 6))\n",
        "sns.countplot(y='ESTU_VALORMATRICULAUNIVERSIDAD', data=test, order=test['ESTU_VALORMATRICULAUNIVERSIDAD'].value_counts().index)\n",
        "plt.title('Distribución de los valores de matrícula universitaria')\n",
        "plt.show()"
      ]
    },
    {
      "cell_type": "markdown",
      "metadata": {
        "id": "fCsmodphEwz0"
      },
      "source": [
        "Relación entre las horas de trabajo y el pago de matrícula propio"
      ]
    },
    {
      "cell_type": "code",
      "execution_count": null,
      "metadata": {
        "colab": {
          "base_uri": "https://localhost:8080/",
          "height": 565
        },
        "id": "IA3HQtUCE0Fu",
        "outputId": "a379fb4b-fd2f-45d2-9d51-1949510b9f4a"
      },
      "outputs": [
        {
          "data": {
            "image/png": "[encoded data removed]",
            "text/plain": [
              "<Figure size 1000x600 with 1 Axes>"
            ]
          },
          "metadata": {},
          "output_type": "display_data"
        }
      ],
      "source": [
        "plt.figure(figsize=(10, 6))\n",
        "sns.boxplot(x='ESTU_HORASSEMANATRABAJA', y='ESTU_PAGOMATRICULAPROPIO', data=test)\n",
        "plt.title('Relación entre horas de trabajo y pago de matrícula propio')\n",
        "plt.show()"
      ]
    },
    {
      "cell_type": "markdown",
      "metadata": {
        "id": "8CCyRWjyGOQN"
      },
      "source": [
        "Distribución de la Educación del Padre"
      ]
    },
    {
      "cell_type": "code",
      "execution_count": null,
      "metadata": {
        "colab": {
          "base_uri": "https://localhost:8080/",
          "height": 743
        },
        "id": "6tjgUAP2E41Y",
        "outputId": "dc9dc2ef-f044-4fc4-86f8-9bbb19d5a954"
      },
      "outputs": [
        {
          "data": {
            "image/png": "[encoded data removed]",
            "text/plain": [
              "<Figure size 1000x600 with 1 Axes>"
            ]
          },
          "metadata": {},
          "output_type": "display_data"
        }
      ],
      "source": [
        "educacion_padre_counts = test['FAMI_EDUCACIONPADRE'].value_counts()\n",
        "\n",
        "plt.figure(figsize=(10, 6))\n",
        "educacion_padre_counts.plot(kind='bar', color='lightcoral')\n",
        "plt.title('Distribución de la Educación del Padre')\n",
        "plt.xlabel('Nivel de Educación del Padre')\n",
        "plt.ylabel('Número de Estudiantes')\n",
        "plt.xticks(rotation=45)\n",
        "plt.show()\n"
      ]
    },
    {
      "cell_type": "markdown",
      "metadata": {
        "id": "yi9oV362d-Dq"
      },
      "source": [
        "# PREPROCESADO"
      ]
    },
    {
      "cell_type": "code",
      "execution_count": null,
      "metadata": {
        "id": "VWqC9D6UjZFI"
      },
      "outputs": [],
      "source": [
        "import numpy as np"
      ]
    },
    {
      "cell_type": "code",
      "source": [
        "train_copy = train.copy()"
      ],
      "metadata": {
        "id": "X2hmE42T9t9F"
      },
      "execution_count": null,
      "outputs": []
    },
    {
      "cell_type": "markdown",
      "metadata": {
        "id": "kuCuY8Wem376"
      },
      "source": [
        "**Columna del pregrado que estudia**"
      ]
    },
    {
      "cell_type": "code",
      "execution_count": null,
      "metadata": {
        "colab": {
          "base_uri": "https://localhost:8080/"
        },
        "id": "lNI6E3omeCxv",
        "outputId": "eb3f41f0-e0e1-4535-e4d1-013a3fb6b906"
      },
      "outputs": [
        {
          "output_type": "execute_result",
          "data": {
            "text/plain": [
              "0"
            ]
          },
          "metadata": {},
          "execution_count": 10
        }
      ],
      "source": [
        "sum(train.ESTU_PRGM_ACADEMICO.isna())"
      ]
    },
    {
      "cell_type": "code",
      "execution_count": null,
      "metadata": {
        "colab": {
          "base_uri": "https://localhost:8080/",
          "height": 490
        },
        "id": "S4YsJEWels0z",
        "outputId": "49f60aec-daf9-4388-9902-5e1fec8fea0a"
      },
      "outputs": [
        {
          "output_type": "execute_result",
          "data": {
            "text/plain": [
              "ESTU_PRGM_ACADEMICO\n",
              "DERECHO                                                   53244\n",
              "ADMINISTRACION DE EMPRESAS                                51902\n",
              "CONTADURIA PUBLICA                                        39664\n",
              "PSICOLOGIA                                                31932\n",
              "INGENIERIA INDUSTRIAL                                     28481\n",
              "                                                          ...  \n",
              "LICENCIATURA EN ESPAÑOL Y FILOLOGÍA                           1\n",
              "ADMINISTRACION EN NEGOCIOS INTERNACIONALES                    1\n",
              "ADMINISTRACION DE COMERCIO EXTERIOR                           1\n",
              "LICENCIATURA EN EDUCACI¿N F¿SICA RECREACI¿N Y DEPORTES        1\n",
              "PROFESIONAL EN INVESTIGACIÓN CRIMINAL                         1\n",
              "Name: count, Length: 948, dtype: int64"
            ],
            "text/html": [
              "<div>\n",
              "<style scoped>\n",
              "    .dataframe tbody tr th:only-of-type {\n",
              "        vertical-align: middle;\n",
              "    }\n",
              "\n",
              "    .dataframe tbody tr th {\n",
              "        vertical-align: top;\n",
              "    }\n",
              "\n",
              "    .dataframe thead th {\n",
              "        text-align: right;\n",
              "    }\n",
              "</style>\n",
              "<table border=\"1\" class=\"dataframe\">\n",
              "  <thead>\n",
              "    <tr style=\"text-align: right;\">\n",
              "      <th></th>\n",
              "      <th>count</th>\n",
              "    </tr>\n",
              "    <tr>\n",
              "      <th>ESTU_PRGM_ACADEMICO</th>\n",
              "      <th></th>\n",
              "    </tr>\n",
              "  </thead>\n",
              "  <tbody>\n",
              "    <tr>\n",
              "      <th>DERECHO</th>\n",
              "      <td>53244</td>\n",
              "    </tr>\n",
              "    <tr>\n",
              "      <th>ADMINISTRACION DE EMPRESAS</th>\n",
              "      <td>51902</td>\n",
              "    </tr>\n",
              "    <tr>\n",
              "      <th>CONTADURIA PUBLICA</th>\n",
              "      <td>39664</td>\n",
              "    </tr>\n",
              "    <tr>\n",
              "      <th>PSICOLOGIA</th>\n",
              "      <td>31932</td>\n",
              "    </tr>\n",
              "    <tr>\n",
              "      <th>INGENIERIA INDUSTRIAL</th>\n",
              "      <td>28481</td>\n",
              "    </tr>\n",
              "    <tr>\n",
              "      <th>...</th>\n",
              "      <td>...</td>\n",
              "    </tr>\n",
              "    <tr>\n",
              "      <th>LICENCIATURA EN ESPAÑOL Y FILOLOGÍA</th>\n",
              "      <td>1</td>\n",
              "    </tr>\n",
              "    <tr>\n",
              "      <th>ADMINISTRACION EN NEGOCIOS INTERNACIONALES</th>\n",
              "      <td>1</td>\n",
              "    </tr>\n",
              "    <tr>\n",
              "      <th>ADMINISTRACION DE COMERCIO EXTERIOR</th>\n",
              "      <td>1</td>\n",
              "    </tr>\n",
              "    <tr>\n",
              "      <th>LICENCIATURA EN EDUCACI¿N F¿SICA RECREACI¿N Y DEPORTES</th>\n",
              "      <td>1</td>\n",
              "    </tr>\n",
              "    <tr>\n",
              "      <th>PROFESIONAL EN INVESTIGACIÓN CRIMINAL</th>\n",
              "      <td>1</td>\n",
              "    </tr>\n",
              "  </tbody>\n",
              "</table>\n",
              "<p>948 rows × 1 columns</p>\n",
              "</div><br><label><b>dtype:</b> int64</label>"
            ]
          },
          "metadata": {},
          "execution_count": 11
        }
      ],
      "source": [
        "train.ESTU_PRGM_ACADEMICO.value_counts()"
      ]
    },
    {
      "cell_type": "code",
      "execution_count": null,
      "metadata": {
        "colab": {
          "base_uri": "https://localhost:8080/"
        },
        "id": "nJbPZQNFl-le",
        "outputId": "42b6c15c-0d37-4a7c-876d-0b342cb3a01a"
      },
      "outputs": [
        {
          "output_type": "execute_result",
          "data": {
            "text/plain": [
              "Index(['DERECHO', 'ADMINISTRACION DE EMPRESAS', 'CONTADURIA PUBLICA',\n",
              "       'PSICOLOGIA', 'INGENIERIA INDUSTRIAL', 'ADMINISTRACIÓN DE EMPRESAS',\n",
              "       'INGENIERIA CIVIL', 'MEDICINA', 'PSICOLOGÍA', 'INGENIERIA DE SISTEMAS',\n",
              "       ...\n",
              "       'ADMINISTRACION TECNOLOGICA', 'LICENCIATURA EN ARTE Y FOLKLORE',\n",
              "       'FORMACION PROFESIONAL EN DEPORTE',\n",
              "       'LICENCIATURA EN EDUCACION BASICA ENFASIS EN CIENCIAS SOCIALES',\n",
              "       'LICENCIATURA EN FÍSICA', 'LICENCIATURA EN ESPAÑOL Y FILOLOGÍA',\n",
              "       'ADMINISTRACION EN NEGOCIOS INTERNACIONALES',\n",
              "       'ADMINISTRACION DE COMERCIO EXTERIOR',\n",
              "       'LICENCIATURA EN EDUCACI¿N F¿SICA RECREACI¿N Y DEPORTES',\n",
              "       'PROFESIONAL EN INVESTIGACIÓN CRIMINAL'],\n",
              "      dtype='object', name='ESTU_PRGM_ACADEMICO', length=948)"
            ]
          },
          "metadata": {},
          "execution_count": 12
        }
      ],
      "source": [
        "train.ESTU_PRGM_ACADEMICO.value_counts().index"
      ]
    },
    {
      "cell_type": "code",
      "execution_count": null,
      "metadata": {
        "colab": {
          "base_uri": "https://localhost:8080/"
        },
        "id": "JBjtkoj8g2W-",
        "outputId": "6391a55a-7f39-4562-c8f6-491ad4f78a4e"
      },
      "outputs": [
        {
          "output_type": "execute_result",
          "data": {
            "text/plain": [
              "Index(['LICENCIATURA EN EDUCACION FISICA, DEPORTE Y RECREACION ENFASIS RURAL',\n",
              "       'DISEÑO DE MODAS Y ALTA COSTURA',\n",
              "       'LICENCIATURA EN EDUCACION ENFASIS EN CIENCIAS SOCIALES',\n",
              "       'INGENIERÍA DE MINAS',\n",
              "       'LICENCIATURA EN EDUCACION BASICA PRIMARIA:ENFASIS EN CIENCIAS SOCIALES',\n",
              "       'ADMINISTRACIÓN DE EMPRESAS TURISTICAS POR CICLOS - CICLO PROFESIONAL',\n",
              "       'QUIMICA Y FARMACIA',\n",
              "       'LICENCIATURA EN EDUCACON FISICA, RECREACION Y DEPORTES',\n",
              "       'COMUNICACIÓN SOCIAL Y PERIODISMO',\n",
              "       'LICENCIATURA EN CIENCIAS DE LA EDUCACION',\n",
              "       'LICENCIATURA EN ARTES ESC¿NICAS', 'CIENCIAS DE LA COMPUTACION',\n",
              "       'DEPORTE Y ACTIVIDADA FISICA', 'ADMINISTRACION TECNOLOGICA',\n",
              "       'LICENCIATURA EN ARTE Y FOLKLORE', 'FORMACION PROFESIONAL EN DEPORTE',\n",
              "       'LICENCIATURA EN EDUCACION BASICA ENFASIS EN CIENCIAS SOCIALES',\n",
              "       'LICENCIATURA EN FÍSICA', 'LICENCIATURA EN ESPAÑOL Y FILOLOGÍA',\n",
              "       'ADMINISTRACION EN NEGOCIOS INTERNACIONALES',\n",
              "       'ADMINISTRACION DE COMERCIO EXTERIOR',\n",
              "       'LICENCIATURA EN EDUCACI¿N F¿SICA RECREACI¿N Y DEPORTES',\n",
              "       'PROFESIONAL EN INVESTIGACIÓN CRIMINAL'],\n",
              "      dtype='object', name='ESTU_PRGM_ACADEMICO')"
            ]
          },
          "metadata": {},
          "execution_count": 13
        }
      ],
      "source": [
        "train.ESTU_PRGM_ACADEMICO.value_counts()[train.ESTU_PRGM_ACADEMICO.value_counts()==1].index\n"
      ]
    },
    {
      "cell_type": "code",
      "source": [
        "def to_onehot(x):\n",
        "    values = np.unique(x)\n",
        "    r = np.r_[[np.argwhere(i==values)[0][0] for i in x]]\n",
        "    return np.eye(len(values))[r].astype(int)\n",
        "\n",
        "def replace_column_with_onehot(d, col):\n",
        "    assert sum(d[col].isna())==0, \"column must have no NaN values\"\n",
        "    values = np.unique(d[col])\n",
        "\n",
        "    k = to_onehot(d[col].values)\n",
        "    r = pd.DataFrame(k, columns=[\"%s_%s\"%(col, values[i]) for i in range(k.shape[1])], index=d.index).join(d)\n",
        "    del(r[col])\n",
        "    return r"
      ],
      "metadata": {
        "id": "fADcpf7t9rpv"
      },
      "execution_count": null,
      "outputs": []
    },
    {
      "cell_type": "code",
      "source": [
        "col = 'ESTU_PRGM_ACADEMICO'\n",
        "procesado_pregrado_estudia = replace_column_with_onehot(train_copy[[col]].dropna().copy(), col)"
      ],
      "metadata": {
        "id": "9lp4rc578xsT"
      },
      "execution_count": null,
      "outputs": []
    },
    {
      "cell_type": "markdown",
      "metadata": {
        "id": "FfubJEzRmsS6"
      },
      "source": [
        "**Columna departamento**"
      ]
    },
    {
      "cell_type": "code",
      "source": [
        "sum(train.ESTU_PRGM_DEPARTAMENTO.isna())"
      ],
      "metadata": {
        "colab": {
          "base_uri": "https://localhost:8080/"
        },
        "id": "IRhzt2i75m0Z",
        "outputId": "f1991755-78a7-425f-809e-ba7c786faf73"
      },
      "execution_count": null,
      "outputs": [
        {
          "output_type": "execute_result",
          "data": {
            "text/plain": [
              "0"
            ]
          },
          "metadata": {},
          "execution_count": 16
        }
      ]
    },
    {
      "cell_type": "code",
      "source": [
        "train.ESTU_PRGM_DEPARTAMENTO.value_counts().index"
      ],
      "metadata": {
        "colab": {
          "base_uri": "https://localhost:8080/"
        },
        "id": "hXR273_b5iwi",
        "outputId": "dbfc5dd8-a5e1-4b9b-992d-540fc748c0d4"
      },
      "execution_count": null,
      "outputs": [
        {
          "output_type": "execute_result",
          "data": {
            "text/plain": [
              "Index(['BOGOTÁ', 'ANTIOQUIA', 'VALLE', 'ATLANTICO', 'SANTANDER',\n",
              "       'NORTE SANTANDER', 'BOLIVAR', 'BOYACA', 'CUNDINAMARCA', 'NARIÑO',\n",
              "       'RISARALDA', 'CORDOBA', 'TOLIMA', 'CALDAS', 'CAUCA', 'HUILA',\n",
              "       'MAGDALENA', 'SUCRE', 'CESAR', 'QUINDIO', 'META', 'LA GUAJIRA', 'CHOCO',\n",
              "       'CAQUETA', 'CASANARE', 'PUTUMAYO', 'ARAUCA', 'AMAZONAS', 'GUAVIARE',\n",
              "       'VAUPES', 'SAN ANDRES'],\n",
              "      dtype='object', name='ESTU_PRGM_DEPARTAMENTO')"
            ]
          },
          "metadata": {},
          "execution_count": 17
        }
      ]
    },
    {
      "cell_type": "code",
      "source": [
        "col = 'ESTU_PRGM_DEPARTAMENTO'"
      ],
      "metadata": {
        "id": "oRPoCxIE5eh9"
      },
      "execution_count": null,
      "outputs": []
    },
    {
      "cell_type": "code",
      "source": [
        "procesado_departamentos = replace_column_with_onehot(train_copy[[col]].dropna().copy(), col)"
      ],
      "metadata": {
        "id": "erewByao5VRg"
      },
      "execution_count": null,
      "outputs": []
    },
    {
      "cell_type": "markdown",
      "metadata": {
        "id": "f1RWA_yIuoWp"
      },
      "source": [
        "**Columna del estrato**"
      ]
    },
    {
      "cell_type": "code",
      "execution_count": null,
      "metadata": {
        "colab": {
          "base_uri": "https://localhost:8080/"
        },
        "id": "ZLj-JmWjuySl",
        "outputId": "69de2453-6449-4c8f-bead-af6ba306586f"
      },
      "outputs": [
        {
          "output_type": "execute_result",
          "data": {
            "text/plain": [
              "32137"
            ]
          },
          "metadata": {},
          "execution_count": 20
        }
      ],
      "source": [
        "sum(train.FAMI_ESTRATOVIVIENDA.isna())"
      ]
    },
    {
      "cell_type": "code",
      "execution_count": null,
      "metadata": {
        "colab": {
          "base_uri": "https://localhost:8080/",
          "height": 335
        },
        "id": "cfZUtJY0YhDY",
        "outputId": "6b3e529d-a1c1-431b-96d5-fa60138d854e"
      },
      "outputs": [
        {
          "output_type": "execute_result",
          "data": {
            "text/plain": [
              "FAMI_ESTRATOVIVIENDA\n",
              "Estrato 2      232671\n",
              "Estrato 3      210685\n",
              "Estrato 1      111991\n",
              "Estrato 4       65514\n",
              "Estrato 5       23608\n",
              "Estrato 6       12605\n",
              "Sin Estrato      3289\n",
              "Name: count, dtype: int64"
            ],
            "text/html": [
              "<div>\n",
              "<style scoped>\n",
              "    .dataframe tbody tr th:only-of-type {\n",
              "        vertical-align: middle;\n",
              "    }\n",
              "\n",
              "    .dataframe tbody tr th {\n",
              "        vertical-align: top;\n",
              "    }\n",
              "\n",
              "    .dataframe thead th {\n",
              "        text-align: right;\n",
              "    }\n",
              "</style>\n",
              "<table border=\"1\" class=\"dataframe\">\n",
              "  <thead>\n",
              "    <tr style=\"text-align: right;\">\n",
              "      <th></th>\n",
              "      <th>count</th>\n",
              "    </tr>\n",
              "    <tr>\n",
              "      <th>FAMI_ESTRATOVIVIENDA</th>\n",
              "      <th></th>\n",
              "    </tr>\n",
              "  </thead>\n",
              "  <tbody>\n",
              "    <tr>\n",
              "      <th>Estrato 2</th>\n",
              "      <td>232671</td>\n",
              "    </tr>\n",
              "    <tr>\n",
              "      <th>Estrato 3</th>\n",
              "      <td>210685</td>\n",
              "    </tr>\n",
              "    <tr>\n",
              "      <th>Estrato 1</th>\n",
              "      <td>111991</td>\n",
              "    </tr>\n",
              "    <tr>\n",
              "      <th>Estrato 4</th>\n",
              "      <td>65514</td>\n",
              "    </tr>\n",
              "    <tr>\n",
              "      <th>Estrato 5</th>\n",
              "      <td>23608</td>\n",
              "    </tr>\n",
              "    <tr>\n",
              "      <th>Estrato 6</th>\n",
              "      <td>12605</td>\n",
              "    </tr>\n",
              "    <tr>\n",
              "      <th>Sin Estrato</th>\n",
              "      <td>3289</td>\n",
              "    </tr>\n",
              "  </tbody>\n",
              "</table>\n",
              "</div><br><label><b>dtype:</b> int64</label>"
            ]
          },
          "metadata": {},
          "execution_count": 21
        }
      ],
      "source": [
        "train.FAMI_ESTRATOVIVIENDA.value_counts()"
      ]
    },
    {
      "cell_type": "code",
      "execution_count": null,
      "metadata": {
        "id": "dWl9_FFwzJ9o"
      },
      "outputs": [],
      "source": [
        "train_copy['FAMI_ESTRATOVIVIENDA'] = train_copy['FAMI_ESTRATOVIVIENDA'].replace('Sin Estrato', np.nan)"
      ]
    },
    {
      "cell_type": "code",
      "execution_count": null,
      "metadata": {
        "id": "Et9_7N8DXsA0"
      },
      "outputs": [],
      "source": [
        "estratos_map = {\n",
        "    'Estrato 1': 1,\n",
        "    'Estrato 2': 2,\n",
        "    'Estrato 3': 3,\n",
        "    'Estrato 4': 4,\n",
        "    'Estrato 5': 5,\n",
        "    'Estrato 6': 6\n",
        "}"
      ]
    },
    {
      "cell_type": "code",
      "execution_count": null,
      "metadata": {
        "id": "32QEc0OucvQS"
      },
      "outputs": [],
      "source": [
        "train_copy['FAMI_ESTRATOVIVIENDA'] = np.array([estratos_map.get(i, np.nan) for i in train_copy['FAMI_ESTRATOVIVIENDA']])"
      ]
    },
    {
      "cell_type": "code",
      "execution_count": null,
      "metadata": {
        "id": "3B87L8UOyq-0",
        "colab": {
          "base_uri": "https://localhost:8080/",
          "height": 35
        },
        "outputId": "de9b76a7-74da-4b85-b1fc-55c402414d1b"
      },
      "outputs": [
        {
          "output_type": "execute_result",
          "data": {
            "text/plain": [
              "\"\\nk = train_estrato['FAMI_ESTRATOVIVIENDA'].copy()\\nk[k.isna()] = np.round(np.random.normal(loc=np.mean(k), scale=np.std(k), size=np.sum(k.isna())))\\nk = k.clip(1, 6)\\ntrain_estrato['FAMI_ESTRATOVIVIENDA'] = k\\n\\n\""
            ],
            "application/vnd.google.colaboratory.intrinsic+json": {
              "type": "string"
            }
          },
          "metadata": {},
          "execution_count": 25
        }
      ],
      "source": [
        "\"\"\"\n",
        "k = train_estrato['FAMI_ESTRATOVIVIENDA'].copy()\n",
        "k[k.isna()] = np.round(np.random.normal(loc=np.mean(k), scale=np.std(k), size=np.sum(k.isna())))\n",
        "k = k.clip(1, 6)\n",
        "train_estrato['FAMI_ESTRATOVIVIENDA'] = k\n",
        "\n",
        "\"\"\""
      ]
    },
    {
      "cell_type": "code",
      "source": [
        "valores_posibles_estrato = np.array([1, 2, 3, 4, 5, 6])\n",
        "frecuencias_estrato = np.array([111991, 232671, 210685, 65514, 23608, 12605])\n",
        "probabilidades_estrato = frecuencias_estrato / frecuencias_estrato.sum()\n",
        "k = train_copy['FAMI_ESTRATOVIVIENDA'].copy()\n",
        "indices_nulos_estrato = np.isnan(k)\n",
        "k[indices_nulos_estrato] = np.random.choice(valores_posibles_estrato, size=np.sum(indices_nulos_estrato), p=probabilidades_estrato)\n",
        "train_copy['FAMI_ESTRATOVIVIENDA'] = k"
      ],
      "metadata": {
        "id": "dhPsBvTHb8o9"
      },
      "execution_count": null,
      "outputs": []
    },
    {
      "cell_type": "code",
      "execution_count": null,
      "metadata": {
        "id": "lFkyq0orlnUA"
      },
      "outputs": [],
      "source": [
        "rmap = {\n",
        "    1.0: 'Estrato 1',\n",
        "    2.0: 'Estrato 2',\n",
        "    3.0: 'Estrato 3',\n",
        "    4.0: 'Estrato 4',\n",
        "    5.0: 'Estrato 5',\n",
        "    6.0: 'Estrato 6'\n",
        "}"
      ]
    },
    {
      "cell_type": "code",
      "execution_count": null,
      "metadata": {
        "id": "UnwuXwt5nWxX"
      },
      "outputs": [],
      "source": [
        "train_copy['FAMI_ESTRATOVIVIENDA'] = np.array([rmap[i] for i in train_copy['FAMI_ESTRATOVIVIENDA']])"
      ]
    },
    {
      "cell_type": "code",
      "execution_count": null,
      "metadata": {
        "id": "lyeKkeiIlH-L"
      },
      "outputs": [],
      "source": [
        "col = 'FAMI_ESTRATOVIVIENDA'\n",
        "procesado_estrato = replace_column_with_onehot(train_copy[[col]].dropna().copy(), col)"
      ]
    },
    {
      "cell_type": "markdown",
      "source": [
        "**Columna horas de trabajo**"
      ],
      "metadata": {
        "id": "fmKpUenePRPl"
      }
    },
    {
      "cell_type": "code",
      "source": [
        "train.ESTU_HORASSEMANATRABAJA.value_counts()"
      ],
      "metadata": {
        "colab": {
          "base_uri": "https://localhost:8080/",
          "height": 272
        },
        "id": "JMrQMOE7QRJ7",
        "outputId": "aa59e794-7054-497b-e93c-cf0f70506911"
      },
      "execution_count": null,
      "outputs": [
        {
          "output_type": "execute_result",
          "data": {
            "text/plain": [
              "ESTU_HORASSEMANATRABAJA\n",
              "Más de 30 horas        249352\n",
              "0                      116550\n",
              "Entre 11 y 20 horas    115857\n",
              "Entre 21 y 30 horas     92693\n",
              "Menos de 10 horas       87191\n",
              "Name: count, dtype: int64"
            ],
            "text/html": [
              "<div>\n",
              "<style scoped>\n",
              "    .dataframe tbody tr th:only-of-type {\n",
              "        vertical-align: middle;\n",
              "    }\n",
              "\n",
              "    .dataframe tbody tr th {\n",
              "        vertical-align: top;\n",
              "    }\n",
              "\n",
              "    .dataframe thead th {\n",
              "        text-align: right;\n",
              "    }\n",
              "</style>\n",
              "<table border=\"1\" class=\"dataframe\">\n",
              "  <thead>\n",
              "    <tr style=\"text-align: right;\">\n",
              "      <th></th>\n",
              "      <th>count</th>\n",
              "    </tr>\n",
              "    <tr>\n",
              "      <th>ESTU_HORASSEMANATRABAJA</th>\n",
              "      <th></th>\n",
              "    </tr>\n",
              "  </thead>\n",
              "  <tbody>\n",
              "    <tr>\n",
              "      <th>Más de 30 horas</th>\n",
              "      <td>249352</td>\n",
              "    </tr>\n",
              "    <tr>\n",
              "      <th>0</th>\n",
              "      <td>116550</td>\n",
              "    </tr>\n",
              "    <tr>\n",
              "      <th>Entre 11 y 20 horas</th>\n",
              "      <td>115857</td>\n",
              "    </tr>\n",
              "    <tr>\n",
              "      <th>Entre 21 y 30 horas</th>\n",
              "      <td>92693</td>\n",
              "    </tr>\n",
              "    <tr>\n",
              "      <th>Menos de 10 horas</th>\n",
              "      <td>87191</td>\n",
              "    </tr>\n",
              "  </tbody>\n",
              "</table>\n",
              "</div><br><label><b>dtype:</b> int64</label>"
            ]
          },
          "metadata": {},
          "execution_count": 30
        }
      ]
    },
    {
      "cell_type": "code",
      "source": [
        "train.ESTU_HORASSEMANATRABAJA.isna().sum()"
      ],
      "metadata": {
        "colab": {
          "base_uri": "https://localhost:8080/"
        },
        "id": "xZJ9mm9MQwc7",
        "outputId": "4c728f22-eccf-4f7c-c9f0-7dc41aff8d5a"
      },
      "execution_count": null,
      "outputs": [
        {
          "output_type": "execute_result",
          "data": {
            "text/plain": [
              "30857"
            ]
          },
          "metadata": {},
          "execution_count": 31
        }
      ]
    },
    {
      "cell_type": "code",
      "source": [
        "horas_trabajo_map = {\n",
        "    'Más de 30 horas': 35,\n",
        "    '0': 0,\n",
        "    'Entre 11 y 20 horas': 15,\n",
        "    'Entre 21 y 30 horas': 25,\n",
        "    'Menos de 10 horas': 5\n",
        "}"
      ],
      "metadata": {
        "id": "d9IDWjnYSjU5"
      },
      "execution_count": null,
      "outputs": []
    },
    {
      "cell_type": "code",
      "source": [
        "train_copy['ESTU_HORASSEMANATRABAJA'] = np.array([horas_trabajo_map.get(i, np.nan) for i in train_copy['ESTU_HORASSEMANATRABAJA']])"
      ],
      "metadata": {
        "id": "m6Gc7ywPVBm2"
      },
      "execution_count": null,
      "outputs": []
    },
    {
      "cell_type": "code",
      "source": [
        "valores_posibles_horas = np.array([35, 0, 15, 25, 5])\n",
        "frecuencias_horas = np.array([249352, 116550, 115857, 92693, 87191])\n",
        "probabilidades_horas = frecuencias_horas / frecuencias_horas.sum()\n",
        "m = train_copy['ESTU_HORASSEMANATRABAJA'].copy()\n",
        "indices_nulos_horas = np.isnan(m)\n",
        "m[indices_nulos_horas] = np.random.choice(valores_posibles_horas, size=np.sum(indices_nulos_horas), p=probabilidades_horas)\n",
        "train_copy['ESTU_HORASSEMANATRABAJA'] = m"
      ],
      "metadata": {
        "id": "rKufSsRTKoHF"
      },
      "execution_count": null,
      "outputs": []
    },
    {
      "cell_type": "code",
      "source": [
        "horas_trabajo_remap = {\n",
        "    35: 'Más de 30 horas',\n",
        "    0: '0',\n",
        "    15: 'Entre 11 y 20 horas',\n",
        "    25: 'Entre 21 y 30 horas',\n",
        "    5: 'Menos de 10 horas'\n",
        "}"
      ],
      "metadata": {
        "id": "8Zl2pyTJYJb-"
      },
      "execution_count": null,
      "outputs": []
    },
    {
      "cell_type": "code",
      "source": [
        "train_copy['ESTU_HORASSEMANATRABAJA']= np.array([horas_trabajo_remap[i] for i in train_copy['ESTU_HORASSEMANATRABAJA']])"
      ],
      "metadata": {
        "id": "7KTose-_bBOf"
      },
      "execution_count": null,
      "outputs": []
    },
    {
      "cell_type": "code",
      "source": [
        "col = 'ESTU_HORASSEMANATRABAJA'\n",
        "procesado_horas = replace_column_with_onehot(train_copy[[col]].dropna().copy(), col)"
      ],
      "metadata": {
        "id": "kJ5PPX9AHaT8"
      },
      "execution_count": null,
      "outputs": []
    },
    {
      "cell_type": "markdown",
      "source": [
        "**Columna Internet**"
      ],
      "metadata": {
        "id": "Q-Z1xQyrX8yW"
      }
    },
    {
      "cell_type": "code",
      "source": [
        "train.FAMI_TIENEINTERNET.value_counts()"
      ],
      "metadata": {
        "colab": {
          "base_uri": "https://localhost:8080/",
          "height": 178
        },
        "id": "rF_IcVMqYQlY",
        "outputId": "25709a9c-3bbe-4368-8743-8306e27341c3"
      },
      "execution_count": null,
      "outputs": [
        {
          "output_type": "execute_result",
          "data": {
            "text/plain": [
              "FAMI_TIENEINTERNET\n",
              "Si    592514\n",
              "No     73357\n",
              "Name: count, dtype: int64"
            ],
            "text/html": [
              "<div>\n",
              "<style scoped>\n",
              "    .dataframe tbody tr th:only-of-type {\n",
              "        vertical-align: middle;\n",
              "    }\n",
              "\n",
              "    .dataframe tbody tr th {\n",
              "        vertical-align: top;\n",
              "    }\n",
              "\n",
              "    .dataframe thead th {\n",
              "        text-align: right;\n",
              "    }\n",
              "</style>\n",
              "<table border=\"1\" class=\"dataframe\">\n",
              "  <thead>\n",
              "    <tr style=\"text-align: right;\">\n",
              "      <th></th>\n",
              "      <th>count</th>\n",
              "    </tr>\n",
              "    <tr>\n",
              "      <th>FAMI_TIENEINTERNET</th>\n",
              "      <th></th>\n",
              "    </tr>\n",
              "  </thead>\n",
              "  <tbody>\n",
              "    <tr>\n",
              "      <th>Si</th>\n",
              "      <td>592514</td>\n",
              "    </tr>\n",
              "    <tr>\n",
              "      <th>No</th>\n",
              "      <td>73357</td>\n",
              "    </tr>\n",
              "  </tbody>\n",
              "</table>\n",
              "</div><br><label><b>dtype:</b> int64</label>"
            ]
          },
          "metadata": {},
          "execution_count": 38
        }
      ]
    },
    {
      "cell_type": "code",
      "source": [
        "train.FAMI_TIENEINTERNET.isna().sum()"
      ],
      "metadata": {
        "colab": {
          "base_uri": "https://localhost:8080/"
        },
        "id": "srVNElKzYaEg",
        "outputId": "0461b6fa-324b-4821-f5aa-73701ba5cdc0"
      },
      "execution_count": null,
      "outputs": [
        {
          "output_type": "execute_result",
          "data": {
            "text/plain": [
              "26629"
            ]
          },
          "metadata": {},
          "execution_count": 39
        }
      ]
    },
    {
      "cell_type": "code",
      "source": [
        "internet_map = {\n",
        "    'Si': 1,\n",
        "    'No': 0,\n",
        "}"
      ],
      "metadata": {
        "id": "TcN2NGMxaT4z"
      },
      "execution_count": null,
      "outputs": []
    },
    {
      "cell_type": "code",
      "source": [
        "train_copy['FAMI_TIENEINTERNET'] = np.array([internet_map.get(i, np.nan) for i in train_copy['FAMI_TIENEINTERNET'] ])"
      ],
      "metadata": {
        "id": "ojBYvYllaeCm"
      },
      "execution_count": null,
      "outputs": []
    },
    {
      "cell_type": "code",
      "source": [
        "valores_posibles_internet = np.array([1,0])\n",
        "frecuencias_internet = np.array([592514, 73357])\n",
        "probabilidades_internet = frecuencias_internet / frecuencias_internet.sum()\n",
        "p = train_copy['FAMI_TIENEINTERNET'].copy()\n",
        "indices_nulos_internet = np.isnan(p)\n",
        "p[indices_nulos_internet] = np.random.choice(valores_posibles_internet, size=np.sum(indices_nulos_internet), p=probabilidades_internet)\n",
        "train_copy['FAMI_TIENEINTERNET'] = p"
      ],
      "metadata": {
        "id": "r_w79ekLx6Aj"
      },
      "execution_count": null,
      "outputs": []
    },
    {
      "cell_type": "code",
      "source": [
        "internet_remap = {\n",
        "    1: 'Si',\n",
        "    0: 'No',\n",
        "}"
      ],
      "metadata": {
        "id": "ktt5lsimyzOD"
      },
      "execution_count": null,
      "outputs": []
    },
    {
      "cell_type": "code",
      "source": [
        "train_copy['FAMI_TIENEINTERNET'] = np.array([internet_remap[i] for i in train_copy['FAMI_TIENEINTERNET']])"
      ],
      "metadata": {
        "id": "rGTog9LZy2kS"
      },
      "execution_count": null,
      "outputs": []
    },
    {
      "cell_type": "code",
      "source": [
        "col = 'FAMI_TIENEINTERNET'\n",
        "procesado_internet = replace_column_with_onehot(train_copy[[col]].dropna().copy(), col)"
      ],
      "metadata": {
        "id": "yKmRJ-MKzY0A"
      },
      "execution_count": null,
      "outputs": []
    },
    {
      "cell_type": "markdown",
      "source": [
        "**Columna pago matricula propio**"
      ],
      "metadata": {
        "id": "XKeRxN0F0Dk-"
      }
    },
    {
      "cell_type": "code",
      "source": [
        "train.ESTU_PAGOMATRICULAPROPIO.value_counts()"
      ],
      "metadata": {
        "colab": {
          "base_uri": "https://localhost:8080/",
          "height": 178
        },
        "id": "A9YoVsA-z1se",
        "outputId": "80804aee-b14d-42e9-a048-e4f5eb26e55b"
      },
      "execution_count": null,
      "outputs": [
        {
          "output_type": "execute_result",
          "data": {
            "text/plain": [
              "ESTU_PAGOMATRICULAPROPIO\n",
              "No    382201\n",
              "Si    303801\n",
              "Name: count, dtype: int64"
            ],
            "text/html": [
              "<div>\n",
              "<style scoped>\n",
              "    .dataframe tbody tr th:only-of-type {\n",
              "        vertical-align: middle;\n",
              "    }\n",
              "\n",
              "    .dataframe tbody tr th {\n",
              "        vertical-align: top;\n",
              "    }\n",
              "\n",
              "    .dataframe thead th {\n",
              "        text-align: right;\n",
              "    }\n",
              "</style>\n",
              "<table border=\"1\" class=\"dataframe\">\n",
              "  <thead>\n",
              "    <tr style=\"text-align: right;\">\n",
              "      <th></th>\n",
              "      <th>count</th>\n",
              "    </tr>\n",
              "    <tr>\n",
              "      <th>ESTU_PAGOMATRICULAPROPIO</th>\n",
              "      <th></th>\n",
              "    </tr>\n",
              "  </thead>\n",
              "  <tbody>\n",
              "    <tr>\n",
              "      <th>No</th>\n",
              "      <td>382201</td>\n",
              "    </tr>\n",
              "    <tr>\n",
              "      <th>Si</th>\n",
              "      <td>303801</td>\n",
              "    </tr>\n",
              "  </tbody>\n",
              "</table>\n",
              "</div><br><label><b>dtype:</b> int64</label>"
            ]
          },
          "metadata": {},
          "execution_count": 46
        }
      ]
    },
    {
      "cell_type": "code",
      "source": [
        "train.ESTU_PAGOMATRICULAPROPIO.isna().sum()"
      ],
      "metadata": {
        "colab": {
          "base_uri": "https://localhost:8080/"
        },
        "id": "WI7n4uQp0SBz",
        "outputId": "43e6e4b8-004f-446f-d605-8db688d81b5a"
      },
      "execution_count": null,
      "outputs": [
        {
          "output_type": "execute_result",
          "data": {
            "text/plain": [
              "6498"
            ]
          },
          "metadata": {},
          "execution_count": 47
        }
      ]
    },
    {
      "cell_type": "code",
      "source": [
        "pagomatricula_map = {\n",
        "    'Si': 1,\n",
        "    'No': 0,\n",
        "}"
      ],
      "metadata": {
        "id": "f_wJl0HS0mFo"
      },
      "execution_count": null,
      "outputs": []
    },
    {
      "cell_type": "code",
      "source": [
        "train_copy['ESTU_PAGOMATRICULAPROPIO'] = np.array([pagomatricula_map.get(i, np.nan) for i in train_copy['ESTU_PAGOMATRICULAPROPIO'] ])"
      ],
      "metadata": {
        "id": "dkkexJWD0ppq"
      },
      "execution_count": null,
      "outputs": []
    },
    {
      "cell_type": "code",
      "source": [
        "valores_posibles_pagomatricula  = np.array([1,0])\n",
        "frecuencias_pagomatricula  = np.array([303801, 382201])\n",
        "probabilidades_pagomatricula  = frecuencias_pagomatricula  / frecuencias_pagomatricula .sum()\n",
        "w = train_copy['ESTU_PAGOMATRICULAPROPIO'].copy()\n",
        "indices_nulos_pagomatricula= np.isnan(w)\n",
        "w[indices_nulos_pagomatricula] = np.random.choice(valores_posibles_pagomatricula, size=np.sum(indices_nulos_pagomatricula), p=probabilidades_pagomatricula)\n",
        "train_copy['ESTU_PAGOMATRICULAPROPIO'] = w"
      ],
      "metadata": {
        "id": "1hUgkdje07Gi"
      },
      "execution_count": null,
      "outputs": []
    },
    {
      "cell_type": "code",
      "source": [
        "pagomatricula_remap = {\n",
        "    1: 'Si',\n",
        "    0: 'No',\n",
        "}"
      ],
      "metadata": {
        "id": "dCcxa-hk1lAn"
      },
      "execution_count": null,
      "outputs": []
    },
    {
      "cell_type": "code",
      "source": [
        "train_copy['ESTU_PAGOMATRICULAPROPIO'] = np.array([pagomatricula_remap[i] for i in train_copy['ESTU_PAGOMATRICULAPROPIO']])"
      ],
      "metadata": {
        "id": "k_DEvsQB1p0O"
      },
      "execution_count": null,
      "outputs": []
    },
    {
      "cell_type": "code",
      "source": [
        "col = 'ESTU_PAGOMATRICULAPROPIO'\n",
        "procesado_pagomatricula = replace_column_with_onehot(train_copy[[col]].dropna().copy(), col)"
      ],
      "metadata": {
        "id": "DiUqonWC13kz"
      },
      "execution_count": null,
      "outputs": []
    },
    {
      "cell_type": "markdown",
      "source": [
        "**Columna educacion madre**"
      ],
      "metadata": {
        "id": "24OS5B2k8WEU"
      }
    },
    {
      "cell_type": "code",
      "source": [
        "train.FAMI_EDUCACIONMADRE.isna().sum()"
      ],
      "metadata": {
        "colab": {
          "base_uri": "https://localhost:8080/"
        },
        "id": "j1mTBAaE9CCf",
        "outputId": "5e93e6a3-0dd5-4d6e-ece3-607d98a8af36"
      },
      "execution_count": null,
      "outputs": [
        {
          "output_type": "execute_result",
          "data": {
            "text/plain": [
              "23664"
            ]
          },
          "metadata": {},
          "execution_count": 54
        }
      ]
    },
    {
      "cell_type": "code",
      "source": [
        "train.FAMI_EDUCACIONMADRE.value_counts()"
      ],
      "metadata": {
        "colab": {
          "base_uri": "https://localhost:8080/",
          "height": 492
        },
        "id": "MTD1cED39HJr",
        "outputId": "c1da586f-9e01-4391-d847-3e24efe2d341"
      },
      "execution_count": null,
      "outputs": [
        {
          "output_type": "execute_result",
          "data": {
            "text/plain": [
              "FAMI_EDUCACIONMADRE\n",
              "Secundaria (Bachillerato) completa      141744\n",
              "Primaria incompleta                      99420\n",
              "Técnica o tecnológica completa           89542\n",
              "Educación profesional completa           85326\n",
              "Secundaria (Bachillerato) incompleta     81012\n",
              "Primaria completa                        56125\n",
              "Postgrado                                46246\n",
              "Técnica o tecnológica incompleta         27533\n",
              "Educación profesional incompleta         22470\n",
              "Ninguno                                  14483\n",
              "No sabe                                   3017\n",
              "No Aplica                                 1918\n",
              "Name: count, dtype: int64"
            ],
            "text/html": [
              "<div>\n",
              "<style scoped>\n",
              "    .dataframe tbody tr th:only-of-type {\n",
              "        vertical-align: middle;\n",
              "    }\n",
              "\n",
              "    .dataframe tbody tr th {\n",
              "        vertical-align: top;\n",
              "    }\n",
              "\n",
              "    .dataframe thead th {\n",
              "        text-align: right;\n",
              "    }\n",
              "</style>\n",
              "<table border=\"1\" class=\"dataframe\">\n",
              "  <thead>\n",
              "    <tr style=\"text-align: right;\">\n",
              "      <th></th>\n",
              "      <th>count</th>\n",
              "    </tr>\n",
              "    <tr>\n",
              "      <th>FAMI_EDUCACIONMADRE</th>\n",
              "      <th></th>\n",
              "    </tr>\n",
              "  </thead>\n",
              "  <tbody>\n",
              "    <tr>\n",
              "      <th>Secundaria (Bachillerato) completa</th>\n",
              "      <td>141744</td>\n",
              "    </tr>\n",
              "    <tr>\n",
              "      <th>Primaria incompleta</th>\n",
              "      <td>99420</td>\n",
              "    </tr>\n",
              "    <tr>\n",
              "      <th>Técnica o tecnológica completa</th>\n",
              "      <td>89542</td>\n",
              "    </tr>\n",
              "    <tr>\n",
              "      <th>Educación profesional completa</th>\n",
              "      <td>85326</td>\n",
              "    </tr>\n",
              "    <tr>\n",
              "      <th>Secundaria (Bachillerato) incompleta</th>\n",
              "      <td>81012</td>\n",
              "    </tr>\n",
              "    <tr>\n",
              "      <th>Primaria completa</th>\n",
              "      <td>56125</td>\n",
              "    </tr>\n",
              "    <tr>\n",
              "      <th>Postgrado</th>\n",
              "      <td>46246</td>\n",
              "    </tr>\n",
              "    <tr>\n",
              "      <th>Técnica o tecnológica incompleta</th>\n",
              "      <td>27533</td>\n",
              "    </tr>\n",
              "    <tr>\n",
              "      <th>Educación profesional incompleta</th>\n",
              "      <td>22470</td>\n",
              "    </tr>\n",
              "    <tr>\n",
              "      <th>Ninguno</th>\n",
              "      <td>14483</td>\n",
              "    </tr>\n",
              "    <tr>\n",
              "      <th>No sabe</th>\n",
              "      <td>3017</td>\n",
              "    </tr>\n",
              "    <tr>\n",
              "      <th>No Aplica</th>\n",
              "      <td>1918</td>\n",
              "    </tr>\n",
              "  </tbody>\n",
              "</table>\n",
              "</div><br><label><b>dtype:</b> int64</label>"
            ]
          },
          "metadata": {},
          "execution_count": 55
        }
      ]
    },
    {
      "cell_type": "code",
      "source": [
        "train_copy.FAMI_EDUCACIONMADRE.values[train_copy.FAMI_EDUCACIONMADRE.isna()] = 'no info'"
      ],
      "metadata": {
        "id": "nUGBkN5W-EYo"
      },
      "execution_count": null,
      "outputs": []
    },
    {
      "cell_type": "code",
      "source": [
        "train_copy.FAMI_EDUCACIONMADRE = ['no info' if i in ['No sabe', 'No Aplica'] else i for i in train_copy.FAMI_EDUCACIONMADRE.values]"
      ],
      "metadata": {
        "id": "YtCxdW2J-2ir"
      },
      "execution_count": null,
      "outputs": []
    },
    {
      "cell_type": "code",
      "source": [
        "col = 'FAMI_EDUCACIONMADRE'\n",
        "procesado_educacionmadre = replace_column_with_onehot(train_copy[[col]].dropna().copy(), col)"
      ],
      "metadata": {
        "id": "zHBNJexT_d6i"
      },
      "execution_count": null,
      "outputs": []
    },
    {
      "cell_type": "markdown",
      "source": [
        "**Columna educacion padre**"
      ],
      "metadata": {
        "id": "hyUsGFcUBIc9"
      }
    },
    {
      "cell_type": "code",
      "source": [
        "train.FAMI_EDUCACIONPADRE.isna().sum()"
      ],
      "metadata": {
        "colab": {
          "base_uri": "https://localhost:8080/"
        },
        "id": "Po4_3P3aBJ6-",
        "outputId": "048950fd-8fce-4d17-d67a-1dd98f37cb50"
      },
      "execution_count": null,
      "outputs": [
        {
          "output_type": "execute_result",
          "data": {
            "text/plain": [
              "23178"
            ]
          },
          "metadata": {},
          "execution_count": 59
        }
      ]
    },
    {
      "cell_type": "code",
      "source": [
        "train.FAMI_EDUCACIONPADRE.value_counts()"
      ],
      "metadata": {
        "colab": {
          "base_uri": "https://localhost:8080/",
          "height": 492
        },
        "id": "oTEtUvvtBO-1",
        "outputId": "353645d1-db4f-4962-cb47-e0b47dd1ee91"
      },
      "execution_count": null,
      "outputs": [
        {
          "output_type": "execute_result",
          "data": {
            "text/plain": [
              "FAMI_EDUCACIONPADRE\n",
              "Secundaria (Bachillerato) completa      128289\n",
              "Primaria incompleta                     125675\n",
              "Educación profesional completa           83117\n",
              "Secundaria (Bachillerato) incompleta     71654\n",
              "Técnica o tecnológica completa           62995\n",
              "Primaria completa                        55958\n",
              "Postgrado                                44169\n",
              "Educación profesional incompleta         27084\n",
              "Técnica o tecnológica incompleta         22552\n",
              "Ninguno                                  22008\n",
              "No sabe                                  16592\n",
              "No Aplica                                 9229\n",
              "Name: count, dtype: int64"
            ],
            "text/html": [
              "<div>\n",
              "<style scoped>\n",
              "    .dataframe tbody tr th:only-of-type {\n",
              "        vertical-align: middle;\n",
              "    }\n",
              "\n",
              "    .dataframe tbody tr th {\n",
              "        vertical-align: top;\n",
              "    }\n",
              "\n",
              "    .dataframe thead th {\n",
              "        text-align: right;\n",
              "    }\n",
              "</style>\n",
              "<table border=\"1\" class=\"dataframe\">\n",
              "  <thead>\n",
              "    <tr style=\"text-align: right;\">\n",
              "      <th></th>\n",
              "      <th>count</th>\n",
              "    </tr>\n",
              "    <tr>\n",
              "      <th>FAMI_EDUCACIONPADRE</th>\n",
              "      <th></th>\n",
              "    </tr>\n",
              "  </thead>\n",
              "  <tbody>\n",
              "    <tr>\n",
              "      <th>Secundaria (Bachillerato) completa</th>\n",
              "      <td>128289</td>\n",
              "    </tr>\n",
              "    <tr>\n",
              "      <th>Primaria incompleta</th>\n",
              "      <td>125675</td>\n",
              "    </tr>\n",
              "    <tr>\n",
              "      <th>Educación profesional completa</th>\n",
              "      <td>83117</td>\n",
              "    </tr>\n",
              "    <tr>\n",
              "      <th>Secundaria (Bachillerato) incompleta</th>\n",
              "      <td>71654</td>\n",
              "    </tr>\n",
              "    <tr>\n",
              "      <th>Técnica o tecnológica completa</th>\n",
              "      <td>62995</td>\n",
              "    </tr>\n",
              "    <tr>\n",
              "      <th>Primaria completa</th>\n",
              "      <td>55958</td>\n",
              "    </tr>\n",
              "    <tr>\n",
              "      <th>Postgrado</th>\n",
              "      <td>44169</td>\n",
              "    </tr>\n",
              "    <tr>\n",
              "      <th>Educación profesional incompleta</th>\n",
              "      <td>27084</td>\n",
              "    </tr>\n",
              "    <tr>\n",
              "      <th>Técnica o tecnológica incompleta</th>\n",
              "      <td>22552</td>\n",
              "    </tr>\n",
              "    <tr>\n",
              "      <th>Ninguno</th>\n",
              "      <td>22008</td>\n",
              "    </tr>\n",
              "    <tr>\n",
              "      <th>No sabe</th>\n",
              "      <td>16592</td>\n",
              "    </tr>\n",
              "    <tr>\n",
              "      <th>No Aplica</th>\n",
              "      <td>9229</td>\n",
              "    </tr>\n",
              "  </tbody>\n",
              "</table>\n",
              "</div><br><label><b>dtype:</b> int64</label>"
            ]
          },
          "metadata": {},
          "execution_count": 60
        }
      ]
    },
    {
      "cell_type": "code",
      "source": [
        "train_copy.FAMI_EDUCACIONPADRE.values[train_copy.FAMI_EDUCACIONPADRE.isna()] = 'no info'"
      ],
      "metadata": {
        "id": "eIVZIzt2BYrD"
      },
      "execution_count": null,
      "outputs": []
    },
    {
      "cell_type": "code",
      "source": [
        "train_copy.FAMI_EDUCACIONPADRE = ['no info' if i in ['No sabe', 'No Aplica'] else i for i in train_copy.FAMI_EDUCACIONPADRE.values]"
      ],
      "metadata": {
        "id": "mWIvcbwBBYj7"
      },
      "execution_count": null,
      "outputs": []
    },
    {
      "cell_type": "code",
      "source": [
        "col = 'FAMI_EDUCACIONPADRE'\n",
        "procesado_educacionpadre = replace_column_with_onehot(train_copy[[col]].dropna().copy(), col)"
      ],
      "metadata": {
        "id": "a-sWIx57BYGb"
      },
      "execution_count": null,
      "outputs": []
    },
    {
      "cell_type": "markdown",
      "source": [
        "**Columna periodo**"
      ],
      "metadata": {
        "id": "Ad_zZAOpEzPn"
      }
    },
    {
      "cell_type": "code",
      "source": [
        "train.PERIODO.isna().sum()"
      ],
      "metadata": {
        "colab": {
          "base_uri": "https://localhost:8080/"
        },
        "id": "yzRzSY6LE4uX",
        "outputId": "97d927d3-6d31-46ce-9e8e-a7ea28708b5f"
      },
      "execution_count": null,
      "outputs": [
        {
          "output_type": "execute_result",
          "data": {
            "text/plain": [
              "0"
            ]
          },
          "metadata": {},
          "execution_count": 64
        }
      ]
    },
    {
      "cell_type": "code",
      "source": [
        "train.PERIODO.value_counts()"
      ],
      "metadata": {
        "colab": {
          "base_uri": "https://localhost:8080/",
          "height": 398
        },
        "id": "Rt84_MWmFHbQ",
        "outputId": "3f2ea3ad-9997-4c2f-e895-d20401f1670f"
      },
      "execution_count": null,
      "outputs": [
        {
          "output_type": "execute_result",
          "data": {
            "text/plain": [
              "PERIODO\n",
              "20195    180873\n",
              "20203    171838\n",
              "20212    171412\n",
              "20183    164818\n",
              "20194      1472\n",
              "20213      1178\n",
              "20202       490\n",
              "20184       254\n",
              "20196       165\n",
              "Name: count, dtype: int64"
            ],
            "text/html": [
              "<div>\n",
              "<style scoped>\n",
              "    .dataframe tbody tr th:only-of-type {\n",
              "        vertical-align: middle;\n",
              "    }\n",
              "\n",
              "    .dataframe tbody tr th {\n",
              "        vertical-align: top;\n",
              "    }\n",
              "\n",
              "    .dataframe thead th {\n",
              "        text-align: right;\n",
              "    }\n",
              "</style>\n",
              "<table border=\"1\" class=\"dataframe\">\n",
              "  <thead>\n",
              "    <tr style=\"text-align: right;\">\n",
              "      <th></th>\n",
              "      <th>count</th>\n",
              "    </tr>\n",
              "    <tr>\n",
              "      <th>PERIODO</th>\n",
              "      <th></th>\n",
              "    </tr>\n",
              "  </thead>\n",
              "  <tbody>\n",
              "    <tr>\n",
              "      <th>20195</th>\n",
              "      <td>180873</td>\n",
              "    </tr>\n",
              "    <tr>\n",
              "      <th>20203</th>\n",
              "      <td>171838</td>\n",
              "    </tr>\n",
              "    <tr>\n",
              "      <th>20212</th>\n",
              "      <td>171412</td>\n",
              "    </tr>\n",
              "    <tr>\n",
              "      <th>20183</th>\n",
              "      <td>164818</td>\n",
              "    </tr>\n",
              "    <tr>\n",
              "      <th>20194</th>\n",
              "      <td>1472</td>\n",
              "    </tr>\n",
              "    <tr>\n",
              "      <th>20213</th>\n",
              "      <td>1178</td>\n",
              "    </tr>\n",
              "    <tr>\n",
              "      <th>20202</th>\n",
              "      <td>490</td>\n",
              "    </tr>\n",
              "    <tr>\n",
              "      <th>20184</th>\n",
              "      <td>254</td>\n",
              "    </tr>\n",
              "    <tr>\n",
              "      <th>20196</th>\n",
              "      <td>165</td>\n",
              "    </tr>\n",
              "  </tbody>\n",
              "</table>\n",
              "</div><br><label><b>dtype:</b> int64</label>"
            ]
          },
          "metadata": {},
          "execution_count": 65
        }
      ]
    },
    {
      "cell_type": "code",
      "source": [
        "col = 'PERIODO'\n",
        "procesado_periodo = replace_column_with_onehot(train_copy[[col]].dropna().copy(), col)"
      ],
      "metadata": {
        "id": "_L-gXI-SFKCy"
      },
      "execution_count": null,
      "outputs": []
    },
    {
      "cell_type": "markdown",
      "source": [
        "**Columna valor de la matricula**"
      ],
      "metadata": {
        "id": "6QXKGeL8FrY2"
      }
    },
    {
      "cell_type": "code",
      "source": [
        "train.ESTU_VALORMATRICULAUNIVERSIDAD.isna().sum()"
      ],
      "metadata": {
        "colab": {
          "base_uri": "https://localhost:8080/"
        },
        "id": "wY13-LJZF3M9",
        "outputId": "dae3f7fe-ca4b-4d83-e058-94ad1358ab34"
      },
      "execution_count": null,
      "outputs": [
        {
          "output_type": "execute_result",
          "data": {
            "text/plain": [
              "6287"
            ]
          },
          "metadata": {},
          "execution_count": 67
        }
      ]
    },
    {
      "cell_type": "code",
      "source": [
        "train.ESTU_VALORMATRICULAUNIVERSIDAD.value_counts()"
      ],
      "metadata": {
        "colab": {
          "base_uri": "https://localhost:8080/",
          "height": 366
        },
        "id": "QLVv1KWMGGOR",
        "outputId": "6c391870-b2cc-46cc-f378-f6f60f6e452d"
      },
      "execution_count": null,
      "outputs": [
        {
          "output_type": "execute_result",
          "data": {
            "text/plain": [
              "ESTU_VALORMATRICULAUNIVERSIDAD\n",
              "Entre 1 millón y menos de 2.5 millones      204048\n",
              "Entre 2.5 millones y menos de 4 millones    127430\n",
              "Menos de 500 mil                             80263\n",
              "Entre 500 mil y menos de 1 millón            78704\n",
              "Entre 4 millones y menos de 5.5 millones     69736\n",
              "Más de 7 millones                            68014\n",
              "Entre 5.5 millones y menos de 7 millones     38490\n",
              "No pagó matrícula                            19528\n",
              "Name: count, dtype: int64"
            ],
            "text/html": [
              "<div>\n",
              "<style scoped>\n",
              "    .dataframe tbody tr th:only-of-type {\n",
              "        vertical-align: middle;\n",
              "    }\n",
              "\n",
              "    .dataframe tbody tr th {\n",
              "        vertical-align: top;\n",
              "    }\n",
              "\n",
              "    .dataframe thead th {\n",
              "        text-align: right;\n",
              "    }\n",
              "</style>\n",
              "<table border=\"1\" class=\"dataframe\">\n",
              "  <thead>\n",
              "    <tr style=\"text-align: right;\">\n",
              "      <th></th>\n",
              "      <th>count</th>\n",
              "    </tr>\n",
              "    <tr>\n",
              "      <th>ESTU_VALORMATRICULAUNIVERSIDAD</th>\n",
              "      <th></th>\n",
              "    </tr>\n",
              "  </thead>\n",
              "  <tbody>\n",
              "    <tr>\n",
              "      <th>Entre 1 millón y menos de 2.5 millones</th>\n",
              "      <td>204048</td>\n",
              "    </tr>\n",
              "    <tr>\n",
              "      <th>Entre 2.5 millones y menos de 4 millones</th>\n",
              "      <td>127430</td>\n",
              "    </tr>\n",
              "    <tr>\n",
              "      <th>Menos de 500 mil</th>\n",
              "      <td>80263</td>\n",
              "    </tr>\n",
              "    <tr>\n",
              "      <th>Entre 500 mil y menos de 1 millón</th>\n",
              "      <td>78704</td>\n",
              "    </tr>\n",
              "    <tr>\n",
              "      <th>Entre 4 millones y menos de 5.5 millones</th>\n",
              "      <td>69736</td>\n",
              "    </tr>\n",
              "    <tr>\n",
              "      <th>Más de 7 millones</th>\n",
              "      <td>68014</td>\n",
              "    </tr>\n",
              "    <tr>\n",
              "      <th>Entre 5.5 millones y menos de 7 millones</th>\n",
              "      <td>38490</td>\n",
              "    </tr>\n",
              "    <tr>\n",
              "      <th>No pagó matrícula</th>\n",
              "      <td>19528</td>\n",
              "    </tr>\n",
              "  </tbody>\n",
              "</table>\n",
              "</div><br><label><b>dtype:</b> int64</label>"
            ]
          },
          "metadata": {},
          "execution_count": 68
        }
      ]
    },
    {
      "cell_type": "code",
      "source": [
        "valormatricula_map = {\n",
        "  'Entre 1 millón y menos de 2.5 millones': 1.75,\n",
        " 'Entre 2.5 millones y menos de 4 millones': 3.25,\n",
        " 'Menos de 500 mil': .250,\n",
        " 'Entre 500 mil y menos de 1 millón': .75,\n",
        " 'Entre 4 millones y menos de 5.5 millones': 4.75,\n",
        " 'Más de 7 millones': 7.75,\n",
        " 'Entre 5.5 millones y menos de 7 millones': 6.25,\n",
        " 'No pagó matrícula': 0,\n",
        "        }"
      ],
      "metadata": {
        "id": "ZOhErFrAn0mh"
      },
      "execution_count": null,
      "outputs": []
    },
    {
      "cell_type": "code",
      "source": [
        "train_copy['ESTU_VALORMATRICULAUNIVERSIDAD'] = np.array([valormatricula_map.get(i, np.nan) for i in train_copy['ESTU_VALORMATRICULAUNIVERSIDAD']])"
      ],
      "metadata": {
        "id": "2OSE2JSopQip"
      },
      "execution_count": null,
      "outputs": []
    },
    {
      "cell_type": "code",
      "source": [
        "valores_posibles_valormatricula = np.array([1.75, 3.25, .250, .75, 4.75, 7.75, 6.25, 0])\n",
        "frecuencias_valormatricula = np.array([204048, 127430, 80263, 78704, 69736, 68014, 38490, 19528])\n",
        "probabilidades_valormatricula = frecuencias_valormatricula / frecuencias_valormatricula.sum()\n",
        "e = train_copy['ESTU_VALORMATRICULAUNIVERSIDAD'].copy()\n",
        "indices_nulos_valormatricula = np.isnan(e)\n",
        "e[indices_nulos_valormatricula] = np.random.choice(valores_posibles_valormatricula, size=np.sum(indices_nulos_valormatricula), p=probabilidades_valormatricula)\n",
        "train_copy['ESTU_VALORMATRICULAUNIVERSIDAD'] = e"
      ],
      "metadata": {
        "id": "ctILNpUVpoTp"
      },
      "execution_count": null,
      "outputs": []
    },
    {
      "cell_type": "code",
      "source": [
        "valormatricula_remap = {\n",
        "    1.75: 'Entre 1 millón y menos de 2.5 millones',\n",
        "    3.25: 'Entre 2.5 millones y menos de 4 millones',\n",
        "    0.250: 'Menos de 500 mil',\n",
        "    0.75: 'Entre 500 mil y menos de 1 millón',\n",
        "    4.75: 'Entre 4 millones y menos de 5.5 millones',\n",
        "    7.75: 'Más de 7 millones',\n",
        "    6.25: 'Entre 5.5 millones y menos de 7 millones',\n",
        "    0: 'No pagó matrícula',\n",
        "}"
      ],
      "metadata": {
        "id": "IAqQO4MzrGxa"
      },
      "execution_count": null,
      "outputs": []
    },
    {
      "cell_type": "code",
      "source": [
        "train_copy['ESTU_VALORMATRICULAUNIVERSIDAD']= np.array([valormatricula_remap[i] for i in train_copy['ESTU_VALORMATRICULAUNIVERSIDAD']])"
      ],
      "metadata": {
        "id": "txExxdG-rH9f"
      },
      "execution_count": null,
      "outputs": []
    },
    {
      "cell_type": "code",
      "source": [
        "col = 'ESTU_VALORMATRICULAUNIVERSIDAD'\n",
        "procesado_valormatricula = replace_column_with_onehot(train_copy[[col]].dropna().copy(), col)"
      ],
      "metadata": {
        "id": "0RWs2Bl1rOX6"
      },
      "execution_count": null,
      "outputs": []
    },
    {
      "cell_type": "markdown",
      "source": [
        "**Columna rendimiento global**"
      ],
      "metadata": {
        "id": "f2nC3GbrsWQg"
      }
    },
    {
      "cell_type": "code",
      "source": [
        "y_col = 'RENDIMIENTO_GLOBAL'\n",
        "redimientoglobal_map = {'alto': 3, 'bajo':0, 'medio-bajo':1, 'medio-alto':2}\n",
        "train_copy[y_col] = [redimientoglobal_map[i] for i in train_copy[y_col]]"
      ],
      "metadata": {
        "id": "kZjzXNd0sN4y"
      },
      "execution_count": null,
      "outputs": []
    },
    {
      "cell_type": "markdown",
      "source": [
        "**COCATENACION Y FINALIZACION DE PREPROCESADO**"
      ],
      "metadata": {
        "id": "9_F4KErd_FPN"
      }
    },
    {
      "cell_type": "code",
      "source": [
        "train_copy = pd.concat([procesado_pregrado_estudia, procesado_departamentos, procesado_estrato, procesado_horas, procesado_internet, procesado_pagomatricula, procesado_educacionmadre, procesado_educacionpadre, procesado_periodo, procesado_valormatricula, train_copy],  axis= 1 )"
      ],
      "metadata": {
        "id": "obc_bZmnKnlC"
      },
      "execution_count": null,
      "outputs": []
    },
    {
      "cell_type": "code",
      "source": [
        "train_copy = train_copy.drop( columns=['PERIODO', 'ESTU_PRGM_ACADEMICO', 'ESTU_PRGM_DEPARTAMENTO', 'ESTU_VALORMATRICULAUNIVERSIDAD', 'ESTU_HORASSEMANATRABAJA', 'FAMI_ESTRATOVIVIENDA', 'FAMI_TIENEINTERNET', 'FAMI_EDUCACIONPADRE', 'FAMI_EDUCACIONMADRE', 'ESTU_PAGOMATRICULAPROPIO'])"
      ],
      "metadata": {
        "id": "uko6dQZaBv5N"
      },
      "execution_count": null,
      "outputs": []
    },
    {
      "cell_type": "code",
      "source": [
        "train_copy"
      ],
      "metadata": {
        "colab": {
          "base_uri": "https://localhost:8080/",
          "height": 461
        },
        "id": "Ab68FsPU_rvI",
        "outputId": "fa565fa4-3d14-4f44-ac10-c61c6eac3ed5"
      },
      "execution_count": null,
      "outputs": [
        {
          "output_type": "execute_result",
          "data": {
            "text/plain": [
              "        ESTU_PRGM_DEPARTAMENTO_AMAZONAS  ESTU_PRGM_DEPARTAMENTO_ANTIOQUIA  \\\n",
              "0                                     0                                 0   \n",
              "1                                     0                                 0   \n",
              "2                                     0                                 0   \n",
              "3                                     0                                 0   \n",
              "4                                     0                                 1   \n",
              "...                                 ...                               ...   \n",
              "692495                                0                                 0   \n",
              "692496                                0                                 0   \n",
              "692497                                0                                 0   \n",
              "692498                                0                                 0   \n",
              "692499                                0                                 1   \n",
              "\n",
              "        ESTU_PRGM_DEPARTAMENTO_ARAUCA  ESTU_PRGM_DEPARTAMENTO_ATLANTICO  \\\n",
              "0                                   0                                 0   \n",
              "1                                   0                                 1   \n",
              "2                                   0                                 0   \n",
              "3                                   0                                 0   \n",
              "4                                   0                                 0   \n",
              "...                               ...                               ...   \n",
              "692495                              0                                 0   \n",
              "692496                              0                                 0   \n",
              "692497                              0                                 0   \n",
              "692498                              0                                 0   \n",
              "692499                              0                                 0   \n",
              "\n",
              "        ESTU_PRGM_DEPARTAMENTO_BOGOTÁ  ESTU_PRGM_DEPARTAMENTO_BOLIVAR  \\\n",
              "0                                   1                               0   \n",
              "1                                   0                               0   \n",
              "2                                   1                               0   \n",
              "3                                   0                               0   \n",
              "4                                   0                               0   \n",
              "...                               ...                             ...   \n",
              "692495                              0                               0   \n",
              "692496                              0                               0   \n",
              "692497                              1                               0   \n",
              "692498                              0                               0   \n",
              "692499                              0                               0   \n",
              "\n",
              "        ESTU_PRGM_DEPARTAMENTO_BOYACA  ESTU_PRGM_DEPARTAMENTO_CALDAS  \\\n",
              "0                                   0                              0   \n",
              "1                                   0                              0   \n",
              "2                                   0                              0   \n",
              "3                                   0                              0   \n",
              "4                                   0                              0   \n",
              "...                               ...                            ...   \n",
              "692495                              0                              0   \n",
              "692496                              0                              0   \n",
              "692497                              0                              0   \n",
              "692498                              0                              0   \n",
              "692499                              0                              0   \n",
              "\n",
              "        ESTU_PRGM_DEPARTAMENTO_CAQUETA  ESTU_PRGM_DEPARTAMENTO_CASANARE  ...  \\\n",
              "0                                    0                                0  ...   \n",
              "1                                    0                                0  ...   \n",
              "2                                    0                                0  ...   \n",
              "3                                    0                                0  ...   \n",
              "4                                    0                                0  ...   \n",
              "...                                ...                              ...  ...   \n",
              "692495                               0                                0  ...   \n",
              "692496                               0                                0  ...   \n",
              "692497                               0                                0  ...   \n",
              "692498                               0                                0  ...   \n",
              "692499                               0                                0  ...   \n",
              "\n",
              "        ESTU_VALORMATRICULAUNIVERSIDAD_Entre 1 millón y menos de 2.5 millones  \\\n",
              "0                                                       0                       \n",
              "1                                                       0                       \n",
              "2                                                       0                       \n",
              "3                                                       0                       \n",
              "4                                                       0                       \n",
              "...                                                   ...                       \n",
              "692495                                                  0                       \n",
              "692496                                                  0                       \n",
              "692497                                                  1                       \n",
              "692498                                                  0                       \n",
              "692499                                                  0                       \n",
              "\n",
              "        ESTU_VALORMATRICULAUNIVERSIDAD_Entre 2.5 millones y menos de 4 millones  \\\n",
              "0                                                       0                         \n",
              "1                                                       1                         \n",
              "2                                                       1                         \n",
              "3                                                       0                         \n",
              "4                                                       1                         \n",
              "...                                                   ...                         \n",
              "692495                                                  0                         \n",
              "692496                                                  1                         \n",
              "692497                                                  0                         \n",
              "692498                                                  1                         \n",
              "692499                                                  0                         \n",
              "\n",
              "        ESTU_VALORMATRICULAUNIVERSIDAD_Entre 4 millones y menos de 5.5 millones  \\\n",
              "0                                                       0                         \n",
              "1                                                       0                         \n",
              "2                                                       0                         \n",
              "3                                                       1                         \n",
              "4                                                       0                         \n",
              "...                                                   ...                         \n",
              "692495                                                  0                         \n",
              "692496                                                  0                         \n",
              "692497                                                  0                         \n",
              "692498                                                  0                         \n",
              "692499                                                  0                         \n",
              "\n",
              "        ESTU_VALORMATRICULAUNIVERSIDAD_Entre 5.5 millones y menos de 7 millones  \\\n",
              "0                                                       1                         \n",
              "1                                                       0                         \n",
              "2                                                       0                         \n",
              "3                                                       0                         \n",
              "4                                                       0                         \n",
              "...                                                   ...                         \n",
              "692495                                                  0                         \n",
              "692496                                                  0                         \n",
              "692497                                                  0                         \n",
              "692498                                                  0                         \n",
              "692499                                                  1                         \n",
              "\n",
              "        ESTU_VALORMATRICULAUNIVERSIDAD_Entre 500 mil y menos de 1 millón  \\\n",
              "0                                                       0                  \n",
              "1                                                       0                  \n",
              "2                                                       0                  \n",
              "3                                                       0                  \n",
              "4                                                       0                  \n",
              "...                                                   ...                  \n",
              "692495                                                  1                  \n",
              "692496                                                  0                  \n",
              "692497                                                  0                  \n",
              "692498                                                  0                  \n",
              "692499                                                  0                  \n",
              "\n",
              "        ESTU_VALORMATRICULAUNIVERSIDAD_Menos de 500 mil  \\\n",
              "0                                                     0   \n",
              "1                                                     0   \n",
              "2                                                     0   \n",
              "3                                                     0   \n",
              "4                                                     0   \n",
              "...                                                 ...   \n",
              "692495                                                0   \n",
              "692496                                                0   \n",
              "692497                                                0   \n",
              "692498                                                0   \n",
              "692499                                                0   \n",
              "\n",
              "        ESTU_VALORMATRICULAUNIVERSIDAD_Más de 7 millones  \\\n",
              "0                                                      0   \n",
              "1                                                      0   \n",
              "2                                                      0   \n",
              "3                                                      0   \n",
              "4                                                      0   \n",
              "...                                                  ...   \n",
              "692495                                                 0   \n",
              "692496                                                 0   \n",
              "692497                                                 0   \n",
              "692498                                                 0   \n",
              "692499                                                 0   \n",
              "\n",
              "        ESTU_VALORMATRICULAUNIVERSIDAD_No pagó matrícula      ID  \\\n",
              "0                                                      0  904256   \n",
              "1                                                      0  645256   \n",
              "2                                                      0  308367   \n",
              "3                                                      0  470353   \n",
              "4                                                      0  989032   \n",
              "...                                                  ...     ...   \n",
              "692495                                                 0   25096   \n",
              "692496                                                 0  754213   \n",
              "692497                                                 0  504185   \n",
              "692498                                                 0  986620   \n",
              "692499                                                 0  933374   \n",
              "\n",
              "        RENDIMIENTO_GLOBAL  \n",
              "0                        2  \n",
              "1                        0  \n",
              "2                        0  \n",
              "3                        3  \n",
              "4                        1  \n",
              "...                    ...  \n",
              "692495                   2  \n",
              "692496                   0  \n",
              "692497                   1  \n",
              "692498                   0  \n",
              "692499                   3  \n",
              "\n",
              "[692500 rows x 87 columns]"
            ],
            "text/html": [
              "\n",
              "  <div id=\"df-976d3fe8-83e6-46a9-b2a8-b20a3fc1ee35\" class=\"colab-df-container\">\n",
              "    <div>\n",
              "<style scoped>\n",
              "    .dataframe tbody tr th:only-of-type {\n",
              "        vertical-align: middle;\n",
              "    }\n",
              "\n",
              "    .dataframe tbody tr th {\n",
              "        vertical-align: top;\n",
              "    }\n",
              "\n",
              "    .dataframe thead th {\n",
              "        text-align: right;\n",
              "    }\n",
              "</style>\n",
              "<table border=\"1\" class=\"dataframe\">\n",
              "  <thead>\n",
              "    <tr style=\"text-align: right;\">\n",
              "      <th></th>\n",
              "      <th>ESTU_PRGM_DEPARTAMENTO_AMAZONAS</th>\n",
              "      <th>ESTU_PRGM_DEPARTAMENTO_ANTIOQUIA</th>\n",
              "      <th>ESTU_PRGM_DEPARTAMENTO_ARAUCA</th>\n",
              "      <th>ESTU_PRGM_DEPARTAMENTO_ATLANTICO</th>\n",
              "      <th>ESTU_PRGM_DEPARTAMENTO_BOGOTÁ</th>\n",
              "      <th>ESTU_PRGM_DEPARTAMENTO_BOLIVAR</th>\n",
              "      <th>ESTU_PRGM_DEPARTAMENTO_BOYACA</th>\n",
              "      <th>ESTU_PRGM_DEPARTAMENTO_CALDAS</th>\n",
              "      <th>ESTU_PRGM_DEPARTAMENTO_CAQUETA</th>\n",
              "      <th>ESTU_PRGM_DEPARTAMENTO_CASANARE</th>\n",
              "      <th>...</th>\n",
              "      <th>ESTU_VALORMATRICULAUNIVERSIDAD_Entre 1 millón y menos de 2.5 millones</th>\n",
              "      <th>ESTU_VALORMATRICULAUNIVERSIDAD_Entre 2.5 millones y menos de 4 millones</th>\n",
              "      <th>ESTU_VALORMATRICULAUNIVERSIDAD_Entre 4 millones y menos de 5.5 millones</th>\n",
              "      <th>ESTU_VALORMATRICULAUNIVERSIDAD_Entre 5.5 millones y menos de 7 millones</th>\n",
              "      <th>ESTU_VALORMATRICULAUNIVERSIDAD_Entre 500 mil y menos de 1 millón</th>\n",
              "      <th>ESTU_VALORMATRICULAUNIVERSIDAD_Menos de 500 mil</th>\n",
              "      <th>ESTU_VALORMATRICULAUNIVERSIDAD_Más de 7 millones</th>\n",
              "      <th>ESTU_VALORMATRICULAUNIVERSIDAD_No pagó matrícula</th>\n",
              "      <th>ID</th>\n",
              "      <th>RENDIMIENTO_GLOBAL</th>\n",
              "    </tr>\n",
              "  </thead>\n",
              "  <tbody>\n",
              "    <tr>\n",
              "      <th>0</th>\n",
              "      <td>0</td>\n",
              "      <td>0</td>\n",
              "      <td>0</td>\n",
              "      <td>0</td>\n",
              "      <td>1</td>\n",
              "      <td>0</td>\n",
              "      <td>0</td>\n",
              "      <td>0</td>\n",
              "      <td>0</td>\n",
              "      <td>0</td>\n",
              "      <td>...</td>\n",
              "      <td>0</td>\n",
              "      <td>0</td>\n",
              "      <td>0</td>\n",
              "      <td>1</td>\n",
              "      <td>0</td>\n",
              "      <td>0</td>\n",
              "      <td>0</td>\n",
              "      <td>0</td>\n",
              "      <td>904256</td>\n",
              "      <td>2</td>\n",
              "    </tr>\n",
              "    <tr>\n",
              "      <th>1</th>\n",
              "      <td>0</td>\n",
              "      <td>0</td>\n",
              "      <td>0</td>\n",
              "      <td>1</td>\n",
              "      <td>0</td>\n",
              "      <td>0</td>\n",
              "      <td>0</td>\n",
              "      <td>0</td>\n",
              "      <td>0</td>\n",
              "      <td>0</td>\n",
              "      <td>...</td>\n",
              "      <td>0</td>\n",
              "      <td>1</td>\n",
              "      <td>0</td>\n",
              "      <td>0</td>\n",
              "      <td>0</td>\n",
              "      <td>0</td>\n",
              "      <td>0</td>\n",
              "      <td>0</td>\n",
              "      <td>645256</td>\n",
              "      <td>0</td>\n",
              "    </tr>\n",
              "    <tr>\n",
              "      <th>2</th>\n",
              "      <td>0</td>\n",
              "      <td>0</td>\n",
              "      <td>0</td>\n",
              "      <td>0</td>\n",
              "      <td>1</td>\n",
              "      <td>0</td>\n",
              "      <td>0</td>\n",
              "      <td>0</td>\n",
              "      <td>0</td>\n",
              "      <td>0</td>\n",
              "      <td>...</td>\n",
              "      <td>0</td>\n",
              "      <td>1</td>\n",
              "      <td>0</td>\n",
              "      <td>0</td>\n",
              "      <td>0</td>\n",
              "      <td>0</td>\n",
              "      <td>0</td>\n",
              "      <td>0</td>\n",
              "      <td>308367</td>\n",
              "      <td>0</td>\n",
              "    </tr>\n",
              "    <tr>\n",
              "      <th>3</th>\n",
              "      <td>0</td>\n",
              "      <td>0</td>\n",
              "      <td>0</td>\n",
              "      <td>0</td>\n",
              "      <td>0</td>\n",
              "      <td>0</td>\n",
              "      <td>0</td>\n",
              "      <td>0</td>\n",
              "      <td>0</td>\n",
              "      <td>0</td>\n",
              "      <td>...</td>\n",
              "      <td>0</td>\n",
              "      <td>0</td>\n",
              "      <td>1</td>\n",
              "      <td>0</td>\n",
              "      <td>0</td>\n",
              "      <td>0</td>\n",
              "      <td>0</td>\n",
              "      <td>0</td>\n",
              "      <td>470353</td>\n",
              "      <td>3</td>\n",
              "    </tr>\n",
              "    <tr>\n",
              "      <th>4</th>\n",
              "      <td>0</td>\n",
              "      <td>1</td>\n",
              "      <td>0</td>\n",
              "      <td>0</td>\n",
              "      <td>0</td>\n",
              "      <td>0</td>\n",
              "      <td>0</td>\n",
              "      <td>0</td>\n",
              "      <td>0</td>\n",
              "      <td>0</td>\n",
              "      <td>...</td>\n",
              "      <td>0</td>\n",
              "      <td>1</td>\n",
              "      <td>0</td>\n",
              "      <td>0</td>\n",
              "      <td>0</td>\n",
              "      <td>0</td>\n",
              "      <td>0</td>\n",
              "      <td>0</td>\n",
              "      <td>989032</td>\n",
              "      <td>1</td>\n",
              "    </tr>\n",
              "    <tr>\n",
              "      <th>...</th>\n",
              "      <td>...</td>\n",
              "      <td>...</td>\n",
              "      <td>...</td>\n",
              "      <td>...</td>\n",
              "      <td>...</td>\n",
              "      <td>...</td>\n",
              "      <td>...</td>\n",
              "      <td>...</td>\n",
              "      <td>...</td>\n",
              "      <td>...</td>\n",
              "      <td>...</td>\n",
              "      <td>...</td>\n",
              "      <td>...</td>\n",
              "      <td>...</td>\n",
              "      <td>...</td>\n",
              "      <td>...</td>\n",
              "      <td>...</td>\n",
              "      <td>...</td>\n",
              "      <td>...</td>\n",
              "      <td>...</td>\n",
              "      <td>...</td>\n",
              "    </tr>\n",
              "    <tr>\n",
              "      <th>692495</th>\n",
              "      <td>0</td>\n",
              "      <td>0</td>\n",
              "      <td>0</td>\n",
              "      <td>0</td>\n",
              "      <td>0</td>\n",
              "      <td>0</td>\n",
              "      <td>0</td>\n",
              "      <td>0</td>\n",
              "      <td>0</td>\n",
              "      <td>0</td>\n",
              "      <td>...</td>\n",
              "      <td>0</td>\n",
              "      <td>0</td>\n",
              "      <td>0</td>\n",
              "      <td>0</td>\n",
              "      <td>1</td>\n",
              "      <td>0</td>\n",
              "      <td>0</td>\n",
              "      <td>0</td>\n",
              "      <td>25096</td>\n",
              "      <td>2</td>\n",
              "    </tr>\n",
              "    <tr>\n",
              "      <th>692496</th>\n",
              "      <td>0</td>\n",
              "      <td>0</td>\n",
              "      <td>0</td>\n",
              "      <td>0</td>\n",
              "      <td>0</td>\n",
              "      <td>0</td>\n",
              "      <td>0</td>\n",
              "      <td>0</td>\n",
              "      <td>0</td>\n",
              "      <td>0</td>\n",
              "      <td>...</td>\n",
              "      <td>0</td>\n",
              "      <td>1</td>\n",
              "      <td>0</td>\n",
              "      <td>0</td>\n",
              "      <td>0</td>\n",
              "      <td>0</td>\n",
              "      <td>0</td>\n",
              "      <td>0</td>\n",
              "      <td>754213</td>\n",
              "      <td>0</td>\n",
              "    </tr>\n",
              "    <tr>\n",
              "      <th>692497</th>\n",
              "      <td>0</td>\n",
              "      <td>0</td>\n",
              "      <td>0</td>\n",
              "      <td>0</td>\n",
              "      <td>1</td>\n",
              "      <td>0</td>\n",
              "      <td>0</td>\n",
              "      <td>0</td>\n",
              "      <td>0</td>\n",
              "      <td>0</td>\n",
              "      <td>...</td>\n",
              "      <td>1</td>\n",
              "      <td>0</td>\n",
              "      <td>0</td>\n",
              "      <td>0</td>\n",
              "      <td>0</td>\n",
              "      <td>0</td>\n",
              "      <td>0</td>\n",
              "      <td>0</td>\n",
              "      <td>504185</td>\n",
              "      <td>1</td>\n",
              "    </tr>\n",
              "    <tr>\n",
              "      <th>692498</th>\n",
              "      <td>0</td>\n",
              "      <td>0</td>\n",
              "      <td>0</td>\n",
              "      <td>0</td>\n",
              "      <td>0</td>\n",
              "      <td>0</td>\n",
              "      <td>0</td>\n",
              "      <td>0</td>\n",
              "      <td>0</td>\n",
              "      <td>0</td>\n",
              "      <td>...</td>\n",
              "      <td>0</td>\n",
              "      <td>1</td>\n",
              "      <td>0</td>\n",
              "      <td>0</td>\n",
              "      <td>0</td>\n",
              "      <td>0</td>\n",
              "      <td>0</td>\n",
              "      <td>0</td>\n",
              "      <td>986620</td>\n",
              "      <td>0</td>\n",
              "    </tr>\n",
              "    <tr>\n",
              "      <th>692499</th>\n",
              "      <td>0</td>\n",
              "      <td>1</td>\n",
              "      <td>0</td>\n",
              "      <td>0</td>\n",
              "      <td>0</td>\n",
              "      <td>0</td>\n",
              "      <td>0</td>\n",
              "      <td>0</td>\n",
              "      <td>0</td>\n",
              "      <td>0</td>\n",
              "      <td>...</td>\n",
              "      <td>0</td>\n",
              "      <td>0</td>\n",
              "      <td>0</td>\n",
              "      <td>1</td>\n",
              "      <td>0</td>\n",
              "      <td>0</td>\n",
              "      <td>0</td>\n",
              "      <td>0</td>\n",
              "      <td>933374</td>\n",
              "      <td>3</td>\n",
              "    </tr>\n",
              "  </tbody>\n",
              "</table>\n",
              "<p>692500 rows × 87 columns</p>\n",
              "</div>\n",
              "    <div class=\"colab-df-buttons\">\n",
              "\n",
              "  <div class=\"colab-df-container\">\n",
              "    <button class=\"colab-df-convert\" onclick=\"convertToInteractive('df-976d3fe8-83e6-46a9-b2a8-b20a3fc1ee35')\"\n",
              "            title=\"Convert this dataframe to an interactive table.\"\n",
              "            style=\"display:none;\">\n",
              "\n",
              "  <svg xmlns=\"http://www.w3.org/2000/svg\" height=\"24px\" viewBox=\"0 -960 960 960\">\n",
              "    <path d=\"M120-120v-720h720v720H120Zm60-500h600v-160H180v160Zm220 220h160v-160H400v160Zm0 220h160v-160H400v160ZM180-400h160v-160H180v160Zm440 0h160v-160H620v160ZM180-180h160v-160H180v160Zm440 0h160v-160H620v160Z\"/>\n",
              "  </svg>\n",
              "    </button>\n",
              "\n",
              "  <style>\n",
              "    .colab-df-container {\n",
              "      display:flex;\n",
              "      gap: 12px;\n",
              "    }\n",
              "\n",
              "    .colab-df-convert {\n",
              "      background-color: #E8F0FE;\n",
              "      border: none;\n",
              "      border-radius: 50%;\n",
              "      cursor: pointer;\n",
              "      display: none;\n",
              "      fill: #1967D2;\n",
              "      height: 32px;\n",
              "      padding: 0 0 0 0;\n",
              "      width: 32px;\n",
              "    }\n",
              "\n",
              "    .colab-df-convert:hover {\n",
              "      background-color: #E2EBFA;\n",
              "      box-shadow: 0px 1px 2px rgba(60, 64, 67, 0.3), 0px 1px 3px 1px rgba(60, 64, 67, 0.15);\n",
              "      fill: #174EA6;\n",
              "    }\n",
              "\n",
              "    .colab-df-buttons div {\n",
              "      margin-bottom: 4px;\n",
              "    }\n",
              "\n",
              "    [theme=dark] .colab-df-convert {\n",
              "      background-color: #3B4455;\n",
              "      fill: #D2E3FC;\n",
              "    }\n",
              "\n",
              "    [theme=dark] .colab-df-convert:hover {\n",
              "      background-color: #434B5C;\n",
              "      box-shadow: 0px 1px 3px 1px rgba(0, 0, 0, 0.15);\n",
              "      filter: drop-shadow(0px 1px 2px rgba(0, 0, 0, 0.3));\n",
              "      fill: #FFFFFF;\n",
              "    }\n",
              "  </style>\n",
              "\n",
              "    <script>\n",
              "      const buttonEl =\n",
              "        document.querySelector('#df-976d3fe8-83e6-46a9-b2a8-b20a3fc1ee35 button.colab-df-convert');\n",
              "      buttonEl.style.display =\n",
              "        google.colab.kernel.accessAllowed ? 'block' : 'none';\n",
              "\n",
              "      async function convertToInteractive(key) {\n",
              "        const element = document.querySelector('#df-976d3fe8-83e6-46a9-b2a8-b20a3fc1ee35');\n",
              "        const dataTable =\n",
              "          await google.colab.kernel.invokeFunction('convertToInteractive',\n",
              "                                                    [key], {});\n",
              "        if (!dataTable) return;\n",
              "\n",
              "        const docLinkHtml = 'Like what you see? Visit the ' +\n",
              "          '<a target=\"_blank\" href=https://colab.research.google.com/notebooks/data_table.ipynb>data table notebook</a>'\n",
              "          + ' to learn more about interactive tables.';\n",
              "        element.innerHTML = '';\n",
              "        dataTable['output_type'] = 'display_data';\n",
              "        await google.colab.output.renderOutput(dataTable, element);\n",
              "        const docLink = document.createElement('div');\n",
              "        docLink.innerHTML = docLinkHtml;\n",
              "        element.appendChild(docLink);\n",
              "      }\n",
              "    </script>\n",
              "  </div>\n",
              "\n",
              "\n",
              "<div id=\"df-df1ce86c-e6a7-472f-bd95-84547584ddf6\">\n",
              "  <button class=\"colab-df-quickchart\" onclick=\"quickchart('df-df1ce86c-e6a7-472f-bd95-84547584ddf6')\"\n",
              "            title=\"Suggest charts\"\n",
              "            style=\"display:none;\">\n",
              "\n",
              "<svg xmlns=\"http://www.w3.org/2000/svg\" height=\"24px\"viewBox=\"0 0 24 24\"\n",
              "     width=\"24px\">\n",
              "    <g>\n",
              "        <path d=\"M19 3H5c-1.1 0-2 .9-2 2v14c0 1.1.9 2 2 2h14c1.1 0 2-.9 2-2V5c0-1.1-.9-2-2-2zM9 17H7v-7h2v7zm4 0h-2V7h2v10zm4 0h-2v-4h2v4z\"/>\n",
              "    </g>\n",
              "</svg>\n",
              "  </button>\n",
              "\n",
              "<style>\n",
              "  .colab-df-quickchart {\n",
              "      --bg-color: #E8F0FE;\n",
              "      --fill-color: #1967D2;\n",
              "      --hover-bg-color: #E2EBFA;\n",
              "      --hover-fill-color: #174EA6;\n",
              "      --disabled-fill-color: #AAA;\n",
              "      --disabled-bg-color: #DDD;\n",
              "  }\n",
              "\n",
              "  [theme=dark] .colab-df-quickchart {\n",
              "      --bg-color: #3B4455;\n",
              "      --fill-color: #D2E3FC;\n",
              "      --hover-bg-color: #434B5C;\n",
              "      --hover-fill-color: #FFFFFF;\n",
              "      --disabled-bg-color: #3B4455;\n",
              "      --disabled-fill-color: #666;\n",
              "  }\n",
              "\n",
              "  .colab-df-quickchart {\n",
              "    background-color: var(--bg-color);\n",
              "    border: none;\n",
              "    border-radius: 50%;\n",
              "    cursor: pointer;\n",
              "    display: none;\n",
              "    fill: var(--fill-color);\n",
              "    height: 32px;\n",
              "    padding: 0;\n",
              "    width: 32px;\n",
              "  }\n",
              "\n",
              "  .colab-df-quickchart:hover {\n",
              "    background-color: var(--hover-bg-color);\n",
              "    box-shadow: 0 1px 2px rgba(60, 64, 67, 0.3), 0 1px 3px 1px rgba(60, 64, 67, 0.15);\n",
              "    fill: var(--button-hover-fill-color);\n",
              "  }\n",
              "\n",
              "  .colab-df-quickchart-complete:disabled,\n",
              "  .colab-df-quickchart-complete:disabled:hover {\n",
              "    background-color: var(--disabled-bg-color);\n",
              "    fill: var(--disabled-fill-color);\n",
              "    box-shadow: none;\n",
              "  }\n",
              "\n",
              "  .colab-df-spinner {\n",
              "    border: 2px solid var(--fill-color);\n",
              "    border-color: transparent;\n",
              "    border-bottom-color: var(--fill-color);\n",
              "    animation:\n",
              "      spin 1s steps(1) infinite;\n",
              "  }\n",
              "\n",
              "  @keyframes spin {\n",
              "    0% {\n",
              "      border-color: transparent;\n",
              "      border-bottom-color: var(--fill-color);\n",
              "      border-left-color: var(--fill-color);\n",
              "    }\n",
              "    20% {\n",
              "      border-color: transparent;\n",
              "      border-left-color: var(--fill-color);\n",
              "      border-top-color: var(--fill-color);\n",
              "    }\n",
              "    30% {\n",
              "      border-color: transparent;\n",
              "      border-left-color: var(--fill-color);\n",
              "      border-top-color: var(--fill-color);\n",
              "      border-right-color: var(--fill-color);\n",
              "    }\n",
              "    40% {\n",
              "      border-color: transparent;\n",
              "      border-right-color: var(--fill-color);\n",
              "      border-top-color: var(--fill-color);\n",
              "    }\n",
              "    60% {\n",
              "      border-color: transparent;\n",
              "      border-right-color: var(--fill-color);\n",
              "    }\n",
              "    80% {\n",
              "      border-color: transparent;\n",
              "      border-right-color: var(--fill-color);\n",
              "      border-bottom-color: var(--fill-color);\n",
              "    }\n",
              "    90% {\n",
              "      border-color: transparent;\n",
              "      border-bottom-color: var(--fill-color);\n",
              "    }\n",
              "  }\n",
              "</style>\n",
              "\n",
              "  <script>\n",
              "    async function quickchart(key) {\n",
              "      const quickchartButtonEl =\n",
              "        document.querySelector('#' + key + ' button');\n",
              "      quickchartButtonEl.disabled = true;  // To prevent multiple clicks.\n",
              "      quickchartButtonEl.classList.add('colab-df-spinner');\n",
              "      try {\n",
              "        const charts = await google.colab.kernel.invokeFunction(\n",
              "            'suggestCharts', [key], {});\n",
              "      } catch (error) {\n",
              "        console.error('Error during call to suggestCharts:', error);\n",
              "      }\n",
              "      quickchartButtonEl.classList.remove('colab-df-spinner');\n",
              "      quickchartButtonEl.classList.add('colab-df-quickchart-complete');\n",
              "    }\n",
              "    (() => {\n",
              "      let quickchartButtonEl =\n",
              "        document.querySelector('#df-df1ce86c-e6a7-472f-bd95-84547584ddf6 button');\n",
              "      quickchartButtonEl.style.display =\n",
              "        google.colab.kernel.accessAllowed ? 'block' : 'none';\n",
              "    })();\n",
              "  </script>\n",
              "</div>\n",
              "\n",
              "  <div id=\"id_26489858-3a6e-4dc3-b291-bed5bd0a41f6\">\n",
              "    <style>\n",
              "      .colab-df-generate {\n",
              "        background-color: #E8F0FE;\n",
              "        border: none;\n",
              "        border-radius: 50%;\n",
              "        cursor: pointer;\n",
              "        display: none;\n",
              "        fill: #1967D2;\n",
              "        height: 32px;\n",
              "        padding: 0 0 0 0;\n",
              "        width: 32px;\n",
              "      }\n",
              "\n",
              "      .colab-df-generate:hover {\n",
              "        background-color: #E2EBFA;\n",
              "        box-shadow: 0px 1px 2px rgba(60, 64, 67, 0.3), 0px 1px 3px 1px rgba(60, 64, 67, 0.15);\n",
              "        fill: #174EA6;\n",
              "      }\n",
              "\n",
              "      [theme=dark] .colab-df-generate {\n",
              "        background-color: #3B4455;\n",
              "        fill: #D2E3FC;\n",
              "      }\n",
              "\n",
              "      [theme=dark] .colab-df-generate:hover {\n",
              "        background-color: #434B5C;\n",
              "        box-shadow: 0px 1px 3px 1px rgba(0, 0, 0, 0.15);\n",
              "        filter: drop-shadow(0px 1px 2px rgba(0, 0, 0, 0.3));\n",
              "        fill: #FFFFFF;\n",
              "      }\n",
              "    </style>\n",
              "    <button class=\"colab-df-generate\" onclick=\"generateWithVariable('train_copy')\"\n",
              "            title=\"Generate code using this dataframe.\"\n",
              "            style=\"display:none;\">\n",
              "\n",
              "  <svg xmlns=\"http://www.w3.org/2000/svg\" height=\"24px\"viewBox=\"0 0 24 24\"\n",
              "       width=\"24px\">\n",
              "    <path d=\"M7,19H8.4L18.45,9,17,7.55,7,17.6ZM5,21V16.75L18.45,3.32a2,2,0,0,1,2.83,0l1.4,1.43a1.91,1.91,0,0,1,.58,1.4,1.91,1.91,0,0,1-.58,1.4L9.25,21ZM18.45,9,17,7.55Zm-12,3A5.31,5.31,0,0,0,4.9,8.1,5.31,5.31,0,0,0,1,6.5,5.31,5.31,0,0,0,4.9,4.9,5.31,5.31,0,0,0,6.5,1,5.31,5.31,0,0,0,8.1,4.9,5.31,5.31,0,0,0,12,6.5,5.46,5.46,0,0,0,6.5,12Z\"/>\n",
              "  </svg>\n",
              "    </button>\n",
              "    <script>\n",
              "      (() => {\n",
              "      const buttonEl =\n",
              "        document.querySelector('#id_26489858-3a6e-4dc3-b291-bed5bd0a41f6 button.colab-df-generate');\n",
              "      buttonEl.style.display =\n",
              "        google.colab.kernel.accessAllowed ? 'block' : 'none';\n",
              "\n",
              "      buttonEl.onclick = () => {\n",
              "        google.colab.notebook.generateWithVariable('train_copy');\n",
              "      }\n",
              "      })();\n",
              "    </script>\n",
              "  </div>\n",
              "\n",
              "    </div>\n",
              "  </div>\n"
            ],
            "application/vnd.google.colaboratory.intrinsic+json": {
              "type": "dataframe",
              "variable_name": "train_copy"
            }
          },
          "metadata": {},
          "execution_count": 73
        }
      ]
    }
  ],
  "metadata": {
    "colab": {
      "collapsed_sections": [
        "khjC6Wkk5OED",
        "056lqOByDH8P",
        "yi9oV362d-Dq"
      ],
      "provenance": [],
      "include_colab_link": true
    },
    "kernelspec": {
      "display_name": "Python 3",
      "name": "python3"
    },
    "language_info": {
      "name": "python"
    }
  },
  "nbformat": 4,
  "nbformat_minor": 0
}